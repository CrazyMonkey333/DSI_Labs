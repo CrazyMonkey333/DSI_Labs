{
 "cells": [
  {
   "cell_type": "markdown",
   "metadata": {
    "id": "zwBCE43Cv3PH"
   },
   "source": [
    "## Lab 7.01 Neural Network Binary Classification\n",
    "_By: Jeff Hale_"
   ]
  },
  {
   "cell_type": "markdown",
   "metadata": {
    "id": "UmyEaf4Awl2v"
   },
   "source": [
    "This lab uses a small [dataset](https://archive.ics.uci.edu/ml/datasets/heart+Disease) provided by the Cleveland Clinic Foundation for Heart Disease. The goal is to predict whether a patient has heart disease (the *target* column)."
   ]
  },
  {
   "cell_type": "markdown",
   "metadata": {
    "id": "uyVxPib57SeE"
   },
   "source": [
    "We suggest running this lab in [Google Colab](https://colab.research.google.com/). \n",
    "\n",
    "Go *File*->*Upload notebook* to upload this notebook to colab.\n",
    "\n",
    "If you are working in Colab and want to see if you can get a speed boost, set your runtime to *TPU* by going to *Runtime* -> *Change runtime type* in the menu above. \n",
    "\n",
    "The processor type won't make a big difference with this small dataset and small networks, but it's good to know how to change the processor."
   ]
  },
  {
   "cell_type": "markdown",
   "metadata": {
    "id": "iiyC7HkqxlUD"
   },
   "source": [
    "### Read data and load using pandas\n",
    "\n",
    "#### Imports"
   ]
  },
  {
   "cell_type": "code",
   "execution_count": 62,
   "metadata": {
    "id": "5IoRbCA2n0_V"
   },
   "outputs": [],
   "source": [
    "import pandas as pd\n",
    "import numpy as np\n",
    "import matplotlib.pyplot as plt\n",
    "import tensorflow as tf\n",
    "from tensorflow.keras.models import Sequential\n",
    "from tensorflow.keras.regularizers import l2\n",
    "from tensorflow.keras.layers import Dense, Dropout\n",
    "from sklearn.model_selection import train_test_split\n",
    "from tensorflow.keras.callbacks import EarlyStopping\n",
    "from tensorflow.keras.utils import to_categorical\n",
    "from sklearn.metrics import confusion_matrix, plot_confusion_matrix\n",
    "from sklearn.metrics import recall_score, accuracy_score, f1_score, precision_score\n",
    "from sklearn.linear_model import LogisticRegression\n",
    "from sklearn.ensemble import GradientBoostingClassifier\n",
    "import seaborn as sns\n",
    "import category_encoders as ce\n",
    "from sklearn.preprocessing import StandardScaler"
   ]
  },
  {
   "cell_type": "markdown",
   "metadata": {
    "id": "-2kBGy_pxn47"
   },
   "source": [
    "Retrieve the csv file containing the heart dataset that ships with TensorFlow."
   ]
  },
  {
   "cell_type": "code",
   "execution_count": 2,
   "metadata": {
    "colab": {
     "base_uri": "https://localhost:8080/",
     "height": 52
    },
    "id": "VS4w2LePn9g3",
    "outputId": "72198c8f-7e31-47a3-c44f-36bc16fab4be"
   },
   "outputs": [],
   "source": [
    "csv_file = tf.keras.utils.get_file('heart.csv', 'https://storage.googleapis.com/download.tensorflow.org/data/heart.csv')"
   ]
  },
  {
   "cell_type": "markdown",
   "metadata": {
    "id": "6BXRPD2-xtQ1"
   },
   "source": [
    "#### Load the csv file using pandas"
   ]
  },
  {
   "cell_type": "code",
   "execution_count": 3,
   "metadata": {
    "id": "UEfJ8TcMpe-2"
   },
   "outputs": [],
   "source": [
    "heart_df = pd.read_csv('./data/heart.csv')"
   ]
  },
  {
   "cell_type": "markdown",
   "metadata": {},
   "source": [
    "#### Inspect"
   ]
  },
  {
   "cell_type": "code",
   "execution_count": 4,
   "metadata": {},
   "outputs": [],
   "source": [
    "heart_df.dropna(inplace=True)"
   ]
  },
  {
   "cell_type": "code",
   "execution_count": 5,
   "metadata": {
    "colab": {
     "base_uri": "https://localhost:8080/",
     "height": 137
    },
    "id": "8FkK6QIRpjd4",
    "outputId": "8cdcb9ba-6ff0-4ef1-c328-0d5f34351af3"
   },
   "outputs": [
    {
     "name": "stdout",
     "output_type": "stream",
     "text": [
      "<class 'pandas.core.frame.DataFrame'>\n",
      "Int64Index: 297 entries, 0 to 301\n",
      "Data columns (total 14 columns):\n",
      " #   Column     Non-Null Count  Dtype  \n",
      "---  ------     --------------  -----  \n",
      " 0   Age        297 non-null    int64  \n",
      " 1   Sex        297 non-null    int64  \n",
      " 2   ChestPain  297 non-null    object \n",
      " 3   RestBP     297 non-null    int64  \n",
      " 4   Chol       297 non-null    int64  \n",
      " 5   Fbs        297 non-null    int64  \n",
      " 6   RestECG    297 non-null    int64  \n",
      " 7   MaxHR      297 non-null    int64  \n",
      " 8   ExAng      297 non-null    int64  \n",
      " 9   Oldpeak    297 non-null    float64\n",
      " 10  Slope      297 non-null    int64  \n",
      " 11  Ca         297 non-null    float64\n",
      " 12  Thal       297 non-null    object \n",
      " 13  AHD        297 non-null    object \n",
      "dtypes: float64(2), int64(9), object(3)\n",
      "memory usage: 34.8+ KB\n"
     ]
    }
   ],
   "source": [
    "heart_df.info()"
   ]
  },
  {
   "cell_type": "code",
   "execution_count": 6,
   "metadata": {
    "colab": {
     "base_uri": "https://localhost:8080/",
     "height": 390
    },
    "id": "_MOAKz654CT5",
    "outputId": "f2efc25e-bee3-4be3-f42a-db8886d74832"
   },
   "outputs": [
    {
     "data": {
      "text/html": [
       "<div>\n",
       "<style scoped>\n",
       "    .dataframe tbody tr th:only-of-type {\n",
       "        vertical-align: middle;\n",
       "    }\n",
       "\n",
       "    .dataframe tbody tr th {\n",
       "        vertical-align: top;\n",
       "    }\n",
       "\n",
       "    .dataframe thead th {\n",
       "        text-align: right;\n",
       "    }\n",
       "</style>\n",
       "<table border=\"1\" class=\"dataframe\">\n",
       "  <thead>\n",
       "    <tr style=\"text-align: right;\">\n",
       "      <th></th>\n",
       "      <th>Age</th>\n",
       "      <th>Sex</th>\n",
       "      <th>ChestPain</th>\n",
       "      <th>RestBP</th>\n",
       "      <th>Chol</th>\n",
       "      <th>Fbs</th>\n",
       "      <th>RestECG</th>\n",
       "      <th>MaxHR</th>\n",
       "      <th>ExAng</th>\n",
       "      <th>Oldpeak</th>\n",
       "      <th>Slope</th>\n",
       "      <th>Ca</th>\n",
       "      <th>Thal</th>\n",
       "      <th>AHD</th>\n",
       "    </tr>\n",
       "  </thead>\n",
       "  <tbody>\n",
       "    <tr>\n",
       "      <th>0</th>\n",
       "      <td>63</td>\n",
       "      <td>1</td>\n",
       "      <td>typical</td>\n",
       "      <td>145</td>\n",
       "      <td>233</td>\n",
       "      <td>1</td>\n",
       "      <td>2</td>\n",
       "      <td>150</td>\n",
       "      <td>0</td>\n",
       "      <td>2.3</td>\n",
       "      <td>3</td>\n",
       "      <td>0.0</td>\n",
       "      <td>fixed</td>\n",
       "      <td>No</td>\n",
       "    </tr>\n",
       "    <tr>\n",
       "      <th>1</th>\n",
       "      <td>67</td>\n",
       "      <td>1</td>\n",
       "      <td>asymptomatic</td>\n",
       "      <td>160</td>\n",
       "      <td>286</td>\n",
       "      <td>0</td>\n",
       "      <td>2</td>\n",
       "      <td>108</td>\n",
       "      <td>1</td>\n",
       "      <td>1.5</td>\n",
       "      <td>2</td>\n",
       "      <td>3.0</td>\n",
       "      <td>normal</td>\n",
       "      <td>Yes</td>\n",
       "    </tr>\n",
       "    <tr>\n",
       "      <th>2</th>\n",
       "      <td>67</td>\n",
       "      <td>1</td>\n",
       "      <td>asymptomatic</td>\n",
       "      <td>120</td>\n",
       "      <td>229</td>\n",
       "      <td>0</td>\n",
       "      <td>2</td>\n",
       "      <td>129</td>\n",
       "      <td>1</td>\n",
       "      <td>2.6</td>\n",
       "      <td>2</td>\n",
       "      <td>2.0</td>\n",
       "      <td>reversable</td>\n",
       "      <td>Yes</td>\n",
       "    </tr>\n",
       "  </tbody>\n",
       "</table>\n",
       "</div>"
      ],
      "text/plain": [
       "   Age  Sex     ChestPain  RestBP  Chol  Fbs  RestECG  MaxHR  ExAng  Oldpeak  \\\n",
       "0   63    1       typical     145   233    1        2    150      0      2.3   \n",
       "1   67    1  asymptomatic     160   286    0        2    108      1      1.5   \n",
       "2   67    1  asymptomatic     120   229    0        2    129      1      2.6   \n",
       "\n",
       "   Slope   Ca        Thal  AHD  \n",
       "0      3  0.0       fixed   No  \n",
       "1      2  3.0      normal  Yes  \n",
       "2      2  2.0  reversable  Yes  "
      ]
     },
     "execution_count": 6,
     "metadata": {},
     "output_type": "execute_result"
    }
   ],
   "source": [
    "heart_df.head(3)"
   ]
  },
  {
   "cell_type": "markdown",
   "metadata": {
    "id": "4iIvlwqwWoWc"
   },
   "source": [
    "#### Check the value counts of the columns that are objects"
   ]
  },
  {
   "cell_type": "code",
   "execution_count": 7,
   "metadata": {
    "colab": {
     "base_uri": "https://localhost:8080/",
     "height": 123
    },
    "id": "dP3Z4KoDstlZ",
    "outputId": "64183a3b-cbdb-4065-a166-a1fab53dce37"
   },
   "outputs": [
    {
     "data": {
      "text/plain": [
       "asymptomatic    142\n",
       "nonanginal       83\n",
       "nontypical       49\n",
       "typical          23\n",
       "Name: ChestPain, dtype: int64"
      ]
     },
     "execution_count": 7,
     "metadata": {},
     "output_type": "execute_result"
    }
   ],
   "source": [
    "heart_df['ChestPain'].value_counts()"
   ]
  },
  {
   "cell_type": "code",
   "execution_count": 8,
   "metadata": {},
   "outputs": [
    {
     "data": {
      "text/plain": [
       "normal        164\n",
       "reversable    115\n",
       "fixed          18\n",
       "Name: Thal, dtype: int64"
      ]
     },
     "execution_count": 8,
     "metadata": {},
     "output_type": "execute_result"
    }
   ],
   "source": [
    "heart_df['Thal'].value_counts()"
   ]
  },
  {
   "cell_type": "code",
   "execution_count": 9,
   "metadata": {},
   "outputs": [
    {
     "data": {
      "text/plain": [
       "No     0.538721\n",
       "Yes    0.461279\n",
       "Name: AHD, dtype: float64"
      ]
     },
     "execution_count": 9,
     "metadata": {},
     "output_type": "execute_result"
    }
   ],
   "source": [
    "heart_df['AHD'].value_counts(normalize=True)"
   ]
  },
  {
   "cell_type": "markdown",
   "metadata": {
    "id": "WWRhH6r4xxQu"
   },
   "source": [
    "You could load data into a format for TensorFlow using `tf.data.Dataset`, but these are unwieldly - it's a serious pain to create a validation dataset from a TF dataset. You used to have to make your data into NumPy arrays for TensorFlow. Now you can just keep them as pandas DataFrames!"
   ]
  },
  {
   "cell_type": "markdown",
   "metadata": {},
   "source": [
    "#### Set up X and y\n",
    "Convert `ChestPain`, `Thal`, and `AHD` (the target) columns to numeric.\n",
    "To convert features to numeric, feel free to give this friendlier OHE a try:\n",
    "```\n",
    "!pip install category_encoders \n",
    "import category_encoders as ce\n",
    "```"
   ]
  },
  {
   "cell_type": "code",
   "execution_count": 10,
   "metadata": {},
   "outputs": [],
   "source": [
    "#Make Target numeric\n",
    "heart_df['AHD'] = heart_df['AHD']\n",
    "heart_df_ = heart_df[['AHD']]\n",
    "\n",
    "dict_ordinal = {\n",
    "    'No': 0,\n",
    "    'Yes' : 1, \n",
    "      }\n",
    "\n",
    "#loop to get the job done\n",
    "for i in heart_df_.columns:\n",
    "    heart_df.replace({i: dict_ordinal},inplace = True)"
   ]
  },
  {
   "cell_type": "markdown",
   "metadata": {},
   "source": [
    "#### Train-test split"
   ]
  },
  {
   "cell_type": "code",
   "execution_count": 11,
   "metadata": {
    "id": "LcP1WjczZUdo"
   },
   "outputs": [],
   "source": [
    "y = heart_df[['AHD']] #if AHD is yes, then 1, if no then 0\n",
    "X = heart_df.drop(columns =['AHD'])\n",
    "assert len(X) == len(y)"
   ]
  },
  {
   "cell_type": "code",
   "execution_count": 12,
   "metadata": {},
   "outputs": [],
   "source": [
    "#split into training and test groups\n",
    "X_train, X_test, y_train, y_test = train_test_split(X, y, random_state = 42, test_size=.2, train_size = .8, stratify = y)"
   ]
  },
  {
   "cell_type": "code",
   "execution_count": 13,
   "metadata": {},
   "outputs": [
    {
     "name": "stderr",
     "output_type": "stream",
     "text": [
      "C:\\Users\\jesse\\Anaconda3\\lib\\site-packages\\category_encoders\\utils.py:21: FutureWarning: is_categorical is deprecated and will be removed in a future version.  Use is_categorical_dtype instead\n",
      "  elif pd.api.types.is_categorical(cols):\n"
     ]
    }
   ],
   "source": [
    "ohe = ce.OneHotEncoder()\n",
    "X_train = ohe.fit_transform(X_train)\n",
    "X_test = ohe.transform(X_test)"
   ]
  },
  {
   "cell_type": "code",
   "execution_count": 14,
   "metadata": {},
   "outputs": [
    {
     "name": "stderr",
     "output_type": "stream",
     "text": [
      "C:\\Users\\jesse\\Anaconda3\\lib\\site-packages\\category_encoders\\utils.py:21: FutureWarning: is_categorical is deprecated and will be removed in a future version.  Use is_categorical_dtype instead\n",
      "  elif pd.api.types.is_categorical(cols):\n"
     ]
    }
   ],
   "source": [
    "ohe = ce.OneHotEncoder()\n",
    "y_train = ohe.fit_transform(y_train)\n",
    "y_test = ohe.transform(y_test)"
   ]
  },
  {
   "cell_type": "code",
   "execution_count": 15,
   "metadata": {},
   "outputs": [],
   "source": [
    "# ohe = ce.OneHotEncoder()\n",
    "# y_train = ohe.fit_transform(y_train)\n",
    "# y_test = ohe.transform(y_test)\n",
    "# y_train"
   ]
  },
  {
   "cell_type": "code",
   "execution_count": 16,
   "metadata": {},
   "outputs": [
    {
     "data": {
      "text/plain": [
       "(237, 18)"
      ]
     },
     "execution_count": 16,
     "metadata": {},
     "output_type": "execute_result"
    }
   ],
   "source": [
    "X_train.shape"
   ]
  },
  {
   "cell_type": "code",
   "execution_count": 17,
   "metadata": {},
   "outputs": [
    {
     "data": {
      "text/plain": [
       "(237, 1)"
      ]
     },
     "execution_count": 17,
     "metadata": {},
     "output_type": "execute_result"
    }
   ],
   "source": [
    "y_train.shape"
   ]
  },
  {
   "cell_type": "code",
   "execution_count": 18,
   "metadata": {},
   "outputs": [],
   "source": [
    "#standardize\n",
    "ss = StandardScaler()\n",
    "X_train = ss.fit_transform(X_train)\n",
    "X_test = ss.transform(X_test)"
   ]
  },
  {
   "cell_type": "markdown",
   "metadata": {
    "id": "9CyGI5BA-faC"
   },
   "source": [
    "#### Set the TensorFlow random seed"
   ]
  },
  {
   "cell_type": "code",
   "execution_count": 19,
   "metadata": {
    "id": "HEfRLI8j-ZQs"
   },
   "outputs": [],
   "source": [
    "tf.random.set_seed(42)"
   ]
  },
  {
   "cell_type": "markdown",
   "metadata": {
    "id": "bB9C0XJkyQEk"
   },
   "source": [
    "## Create and train a model\n",
    "\n",
    "#### Create model structure"
   ]
  },
  {
   "cell_type": "code",
   "execution_count": 21,
   "metadata": {
    "colab": {
     "base_uri": "https://localhost:8080/",
     "height": 34
    },
    "id": "FQd9PcPRpkP4",
    "outputId": "71765ffd-02b8-4d64-d468-b2d2c47b453f"
   },
   "outputs": [],
   "source": [
    "#instantiate model\n",
    "model = Sequential()\n",
    "\n",
    "#input layer\n",
    "n_input = X_train.shape[1]\n",
    "\n",
    "model.add(Dense(n_input, \n",
    "                input_dim=n_input,\n",
    "                activation='relu'\n",
    "                ))\n",
    "\n",
    "#dense layers\n",
    "\n",
    "#output layer\n",
    "model.add(Dense(1, activation='sigmoid'))"
   ]
  },
  {
   "cell_type": "markdown",
   "metadata": {},
   "source": [
    "#### Visualize the structure"
   ]
  },
  {
   "cell_type": "code",
   "execution_count": 22,
   "metadata": {
    "colab": {
     "base_uri": "https://localhost:8080/",
     "height": 301
    },
    "id": "xpIoUWSxgUBb",
    "outputId": "41a1d588-d1ae-43ba-dc46-944f68e91427"
   },
   "outputs": [
    {
     "name": "stdout",
     "output_type": "stream",
     "text": [
      "Model: \"sequential_1\"\n",
      "_________________________________________________________________\n",
      "Layer (type)                 Output Shape              Param #   \n",
      "=================================================================\n",
      "dense_2 (Dense)              (None, 18)                342       \n",
      "_________________________________________________________________\n",
      "dense_3 (Dense)              (None, 1)                 19        \n",
      "=================================================================\n",
      "Total params: 361\n",
      "Trainable params: 361\n",
      "Non-trainable params: 0\n",
      "_________________________________________________________________\n"
     ]
    }
   ],
   "source": [
    "# Check neural network topology\n",
    "model.summary()"
   ]
  },
  {
   "cell_type": "markdown",
   "metadata": {
    "id": "T12mvCrqpXOX"
   },
   "source": [
    "#### Compile"
   ]
  },
  {
   "cell_type": "code",
   "execution_count": 23,
   "metadata": {
    "id": "fPzix0n5xPHc"
   },
   "outputs": [],
   "source": [
    "#compile model\n",
    "model.compile(loss='categorical_crossentropy', optimizer='adam', metrics=['accuracy'])"
   ]
  },
  {
   "cell_type": "markdown",
   "metadata": {
    "id": "nlV0i6J4o-Yg"
   },
   "source": [
    "#### Make an EarlyStopping callback"
   ]
  },
  {
   "cell_type": "code",
   "execution_count": 24,
   "metadata": {
    "id": "ybDzNUheqxJw"
   },
   "outputs": [],
   "source": [
    "early_stop = EarlyStopping(monitor='val_loss',min_delta=0, patience=5, verbose = 1, mode='auto')"
   ]
  },
  {
   "cell_type": "markdown",
   "metadata": {
    "id": "gaEz3a5BpLxr"
   },
   "source": [
    "#### Fit the model"
   ]
  },
  {
   "cell_type": "code",
   "execution_count": 25,
   "metadata": {
    "id": "GTxY6vPrpJkl"
   },
   "outputs": [
    {
     "name": "stdout",
     "output_type": "stream",
     "text": [
      "Epoch 1/25\n",
      "4/4 [==============================] - 1s 321ms/step - loss: 0.0000e+00 - accuracy: 0.3392 - val_loss: 0.0000e+00 - val_accuracy: 0.4167\n",
      "Epoch 2/25\n",
      "4/4 [==============================] - 0s 20ms/step - loss: 0.0000e+00 - accuracy: 0.3769 - val_loss: 0.0000e+00 - val_accuracy: 0.4333\n",
      "Epoch 3/25\n",
      "4/4 [==============================] - 0s 19ms/step - loss: 0.0000e+00 - accuracy: 0.3995 - val_loss: 0.0000e+00 - val_accuracy: 0.4500\n",
      "Epoch 4/25\n",
      "4/4 [==============================] - 0s 19ms/step - loss: 0.0000e+00 - accuracy: 0.4227 - val_loss: 0.0000e+00 - val_accuracy: 0.4500\n",
      "Epoch 5/25\n",
      "4/4 [==============================] - 0s 20ms/step - loss: 0.0000e+00 - accuracy: 0.4458 - val_loss: 0.0000e+00 - val_accuracy: 0.5167\n",
      "Epoch 6/25\n",
      "4/4 [==============================] - 0s 22ms/step - loss: 0.0000e+00 - accuracy: 0.4651 - val_loss: 0.0000e+00 - val_accuracy: 0.5500\n",
      "Epoch 00006: early stopping\n"
     ]
    }
   ],
   "source": [
    "history = model.fit(X_train, y_train, validation_data=(X_test, y_test), epochs=25, batch_size=64, callbacks=[early_stop])"
   ]
  },
  {
   "cell_type": "markdown",
   "metadata": {
    "id": "8rOk1tBrkwOo"
   },
   "source": [
    "#### Plot model performance on the validation data (accuracy, recall, and precision)"
   ]
  },
  {
   "cell_type": "code",
   "execution_count": 26,
   "metadata": {
    "colab": {
     "base_uri": "https://localhost:8080/",
     "height": 264
    },
    "id": "J0KM_xsoDW3P",
    "outputId": "5b83b18b-0e8b-427e-bda6-c3ebe14f7d89"
   },
   "outputs": [
    {
     "data": {
      "image/png": "[encoded data removed]",
      "text/plain": [
       "<Figure size 864x576 with 1 Axes>"
      ]
     },
     "metadata": {
      "needs_background": "light"
     },
     "output_type": "display_data"
    }
   ],
   "source": [
    "# Visualize the loss\n",
    "train_loss = history.history['loss']\n",
    "test_loss = history.history['val_loss']\n",
    "\n",
    "plt.figure(figsize=(12, 8))\n",
    "plt.plot(train_loss, label='Training loss', color='navy')\n",
    "plt.plot(test_loss, label='Testing loss', color='skyblue')\n",
    "plt.legend();"
   ]
  },
  {
   "cell_type": "code",
   "execution_count": 28,
   "metadata": {},
   "outputs": [
    {
     "data": {
      "image/png": "[encoded data removed]",
      "text/plain": [
       "<Figure size 432x288 with 1 Axes>"
      ]
     },
     "metadata": {
      "needs_background": "light"
     },
     "output_type": "display_data"
    }
   ],
   "source": [
    "# Visualize loss\n",
    "train_loss = history.history['loss']\n",
    "test_loss = history.history['val_loss']\n",
    "\n",
    "plt.plot(history.history['accuracy'], label='Train accuracy')\n",
    "plt.plot(history.history['val_accuracy'], label='Val accuracy')\n",
    "plt.legend();"
   ]
  },
  {
   "cell_type": "markdown",
   "metadata": {
    "id": "ltQkFibkzAMb"
   },
   "source": [
    "#### Save model"
   ]
  },
  {
   "cell_type": "code",
   "execution_count": 29,
   "metadata": {
    "colab": {
     "base_uri": "https://localhost:8080/",
     "height": 34
    },
    "id": "b4477jxw71mZ",
    "outputId": "f69379ab-9849-42f4-9e03-79e18697c3b7"
   },
   "outputs": [
    {
     "name": "stdout",
     "output_type": "stream",
     "text": [
      "INFO:tensorflow:Assets written to: ./nn_model\\assets\n"
     ]
    }
   ],
   "source": [
    "model.save('./nn_model') "
   ]
  },
  {
   "cell_type": "markdown",
   "metadata": {
    "id": "wgSH6wUwEDp2"
   },
   "source": [
    "#### Load model"
   ]
  },
  {
   "cell_type": "code",
   "execution_count": 30,
   "metadata": {
    "id": "9DbjapJzd-ks"
   },
   "outputs": [],
   "source": [
    "model = tf.keras.models.load_model('./nn_model')"
   ]
  },
  {
   "cell_type": "markdown",
   "metadata": {
    "id": "fs9fVkzQEGbN"
   },
   "source": [
    "#### Evaluate on test set "
   ]
  },
  {
   "cell_type": "code",
   "execution_count": 31,
   "metadata": {
    "colab": {
     "base_uri": "https://localhost:8080/",
     "height": 125
    },
    "id": "aSaWeerYEDFX",
    "outputId": "686e55e8-dcf5-442c-9167-f0dbc6b4893c"
   },
   "outputs": [
    {
     "name": "stdout",
     "output_type": "stream",
     "text": [
      "Epoch 1/25\n",
      "1/1 [==============================] - 1s 528ms/step - loss: 0.0000e+00 - accuracy: 0.5500 - val_loss: 0.0000e+00 - val_accuracy: 0.4810\n",
      "Epoch 2/25\n",
      "1/1 [==============================] - 0s 61ms/step - loss: 0.0000e+00 - accuracy: 0.5500 - val_loss: 0.0000e+00 - val_accuracy: 0.4979\n",
      "Epoch 3/25\n",
      "1/1 [==============================] - 0s 62ms/step - loss: 0.0000e+00 - accuracy: 0.5667 - val_loss: 0.0000e+00 - val_accuracy: 0.4979\n",
      "Epoch 4/25\n",
      "1/1 [==============================] - 0s 67ms/step - loss: 0.0000e+00 - accuracy: 0.5667 - val_loss: 0.0000e+00 - val_accuracy: 0.4979\n",
      "Epoch 5/25\n",
      "1/1 [==============================] - 0s 56ms/step - loss: 0.0000e+00 - accuracy: 0.5667 - val_loss: 0.0000e+00 - val_accuracy: 0.4979\n",
      "Epoch 6/25\n",
      "1/1 [==============================] - 0s 60ms/step - loss: 0.0000e+00 - accuracy: 0.5833 - val_loss: 0.0000e+00 - val_accuracy: 0.5021\n",
      "Epoch 00006: early stopping\n"
     ]
    }
   ],
   "source": [
    "history_test = model.fit(\n",
    "X_test,\n",
    "y_test,\n",
    "validation_data=(X_train,y_train),\n",
    "epochs=25,\n",
    "batch_size=64,\n",
    "callbacks=[early_stop])"
   ]
  },
  {
   "cell_type": "markdown",
   "metadata": {
    "id": "5olEwyc7D_ti"
   },
   "source": [
    "#### X_test predictions"
   ]
  },
  {
   "cell_type": "code",
   "execution_count": 32,
   "metadata": {
    "id": "w5hEzXcbefof"
   },
   "outputs": [],
   "source": [
    "y_pred=model.predict(X_test)"
   ]
  },
  {
   "cell_type": "markdown",
   "metadata": {
    "id": "S4B1DOQOlIpD"
   },
   "source": [
    "#### What do those numbers look like? Let's get rid of that exponential notation and just round the predictions."
   ]
  },
  {
   "cell_type": "code",
   "execution_count": 33,
   "metadata": {
    "id": "WxVEisOYw4Jr"
   },
   "outputs": [],
   "source": [
    "y_pred = np.round(y_pred, 0)\n",
    "y_pred = pd.DataFrame(y_pred) "
   ]
  },
  {
   "cell_type": "markdown",
   "metadata": {
    "id": "vzrZM0MTxDl9"
   },
   "source": [
    "#### How is the model performing? \n",
    "Let's look at the confusion matrix using TF."
   ]
  },
  {
   "cell_type": "code",
   "execution_count": 34,
   "metadata": {},
   "outputs": [],
   "source": [
    "# Get predictions\n",
    "# Save confusion matrix values\n",
    "tn, fp, fn, tp = confusion_matrix(y_test, y_pred).ravel()"
   ]
  },
  {
   "cell_type": "code",
   "execution_count": 35,
   "metadata": {},
   "outputs": [
    {
     "data": {
      "text/html": [
       "<div>\n",
       "<style scoped>\n",
       "    .dataframe tbody tr th:only-of-type {\n",
       "        vertical-align: middle;\n",
       "    }\n",
       "\n",
       "    .dataframe tbody tr th {\n",
       "        vertical-align: top;\n",
       "    }\n",
       "\n",
       "    .dataframe thead th {\n",
       "        text-align: right;\n",
       "    }\n",
       "</style>\n",
       "<table border=\"1\" class=\"dataframe\">\n",
       "  <thead>\n",
       "    <tr style=\"text-align: right;\">\n",
       "      <th></th>\n",
       "      <th>Predicted Yes</th>\n",
       "      <th>Predicted No</th>\n",
       "    </tr>\n",
       "  </thead>\n",
       "  <tbody>\n",
       "    <tr>\n",
       "      <th>Actual Yes</th>\n",
       "      <td>25</td>\n",
       "      <td>7</td>\n",
       "    </tr>\n",
       "    <tr>\n",
       "      <th>Actual No</th>\n",
       "      <td>17</td>\n",
       "      <td>11</td>\n",
       "    </tr>\n",
       "  </tbody>\n",
       "</table>\n",
       "</div>"
      ],
      "text/plain": [
       "            Predicted Yes  Predicted No\n",
       "Actual Yes             25             7\n",
       "Actual No              17            11"
      ]
     },
     "execution_count": 35,
     "metadata": {},
     "output_type": "execute_result"
    }
   ],
   "source": [
    "#function to make a confusion matrix in a pandas dataframe\n",
    "\n",
    "def conmat(y_test, preds, classes):\n",
    "    conmat = confusion_matrix(y_test, preds)\n",
    "    return pd.DataFrame(conmat, columns=['Predicted ' +class_ for class_ in classes], \\\n",
    "                index=['Actual '+ class_ for class_ in classes])\n",
    "\n",
    "preds = y_pred\n",
    "\n",
    "conmat(y_test, preds, ['Yes', 'No'])"
   ]
  },
  {
   "cell_type": "markdown",
   "metadata": {
    "id": "_Yk_wAPHwSme"
   },
   "source": [
    "Or just use sklearn's confusion matrix. "
   ]
  },
  {
   "cell_type": "markdown",
   "metadata": {
    "id": "i88nl2fLmmPo"
   },
   "source": [
    "#### Evaluate with other sklearn metrics"
   ]
  },
  {
   "cell_type": "code",
   "execution_count": 36,
   "metadata": {
    "id": "3HS5qvVEp7Dt"
   },
   "outputs": [
    {
     "name": "stderr",
     "output_type": "stream",
     "text": [
      "C:\\Users\\jesse\\Anaconda3\\lib\\site-packages\\tensorflow\\python\\keras\\engine\\sequential.py:450: UserWarning: `model.predict_classes()` is deprecated and will be removed after 2021-01-01. Please use instead:* `np.argmax(model.predict(x), axis=-1)`,   if your model does multi-class classification   (e.g. if it uses a `softmax` last-layer activation).* `(model.predict(x) > 0.5).astype(\"int32\")`,   if your model does binary classification   (e.g. if it uses a `sigmoid` last-layer activation).\n",
      "  warnings.warn('`model.predict_classes()` is deprecated and '\n"
     ]
    },
    {
     "name": "stdout",
     "output_type": "stream",
     "text": [
      "Recall score: 0.6\n",
      "Accuracy score: 0.6\n",
      "F1-score score: 0.48\n",
      "Precision score: 0.61\n"
     ]
    }
   ],
   "source": [
    "print(f\"Recall score: {np.round(recall_score(y_test, model.predict_classes(X_test), average = 'weighted'),2)}\")\n",
    "print(f\"Accuracy score: {np.round(accuracy_score(y_test, model.predict_classes(X_test),),2)}\")\n",
    "print(f\"F1-score score: {np.round(f1_score(y_test, model.predict_classes(X_test),),2)}\")\n",
    "print(f\"Precision score: {np.round(precision_score(y_test, model.predict_classes(X_test),),2)}\")"
   ]
  },
  {
   "cell_type": "markdown",
   "metadata": {
    "id": "WygQswjBwBb4"
   },
   "source": [
    "### Make a null model"
   ]
  },
  {
   "cell_type": "code",
   "execution_count": 37,
   "metadata": {
    "colab": {
     "base_uri": "https://localhost:8080/",
     "height": 70
    },
    "id": "6-J5CSa-wAt-",
    "outputId": "34c32d3a-c98f-49f8-f6f7-9587a04cbd85"
   },
   "outputs": [
    {
     "data": {
      "text/plain": [
       "0    0.538721\n",
       "1    0.461279\n",
       "Name: AHD, dtype: float64"
      ]
     },
     "execution_count": 37,
     "metadata": {},
     "output_type": "execute_result"
    }
   ],
   "source": [
    "heart_df['AHD'].value_counts(normalize=True)"
   ]
  },
  {
   "cell_type": "markdown",
   "metadata": {
    "id": "aWNUxsZshX71"
   },
   "source": [
    "## Can you make a better model?\n",
    "\n",
    "Change the model architecture and see if you can make a better model. Add nodes, dense layers, and dropout layers."
   ]
  },
  {
   "cell_type": "code",
   "execution_count": 38,
   "metadata": {
    "id": "-vuo0gPswEjU"
   },
   "outputs": [],
   "source": [
    "#instantiate model\n",
    "model1 = Sequential()\n",
    "\n",
    "#input layer\n",
    "n_input = X_train.shape[1]\n",
    "\n",
    "#dense layers\n",
    "model1.add(Dense(n_input, \n",
    "                input_dim=n_input,\n",
    "                activation='relu',\n",
    "                kernel_regularizer=l2(0.001)))\n",
    "model1.add(Dense(10, \n",
    "                input_dim=n_input,\n",
    "                activation='relu'))\n",
    "model1.add(Dropout(0.2))\n",
    "model1.add(Dense(8, \n",
    "                input_dim=n_input,\n",
    "                activation='relu',\n",
    "                ))\n",
    "model1.add(Dropout(0.2))\n",
    "\n",
    "#output layer\n",
    "model1.add(Dense(1, activation='sigmoid'))"
   ]
  },
  {
   "cell_type": "code",
   "execution_count": 39,
   "metadata": {},
   "outputs": [],
   "source": [
    "#compile model\n",
    "model1.compile(loss='categorical_crossentropy', optimizer='adam', metrics=['accuracy'])"
   ]
  },
  {
   "cell_type": "code",
   "execution_count": 40,
   "metadata": {},
   "outputs": [
    {
     "name": "stdout",
     "output_type": "stream",
     "text": [
      "Epoch 1/10\n",
      "4/4 [==============================] - 1s 69ms/step - loss: 0.0182 - accuracy: 0.5088 - val_loss: 0.0181 - val_accuracy: 0.4979\n",
      "Epoch 2/10\n",
      "4/4 [==============================] - 0s 23ms/step - loss: 0.0181 - accuracy: 0.5032 - val_loss: 0.0180 - val_accuracy: 0.5443\n",
      "Epoch 3/10\n",
      "4/4 [==============================] - 0s 20ms/step - loss: 0.0180 - accuracy: 0.5956 - val_loss: 0.0180 - val_accuracy: 0.5570\n",
      "Epoch 4/10\n",
      "4/4 [==============================] - 0s 21ms/step - loss: 0.0179 - accuracy: 0.5775 - val_loss: 0.0179 - val_accuracy: 0.6160\n",
      "Epoch 5/10\n",
      "4/4 [==============================] - 0s 20ms/step - loss: 0.0179 - accuracy: 0.5606 - val_loss: 0.0178 - val_accuracy: 0.6414\n",
      "Epoch 6/10\n",
      "4/4 [==============================] - 0s 20ms/step - loss: 0.0178 - accuracy: 0.5968 - val_loss: 0.0177 - val_accuracy: 0.6835\n",
      "Epoch 7/10\n",
      "4/4 [==============================] - 0s 20ms/step - loss: 0.0177 - accuracy: 0.6561 - val_loss: 0.0177 - val_accuracy: 0.7215\n",
      "Epoch 8/10\n",
      "4/4 [==============================] - 0s 19ms/step - loss: 0.0177 - accuracy: 0.7020 - val_loss: 0.0176 - val_accuracy: 0.7300\n",
      "Epoch 9/10\n",
      "4/4 [==============================] - 0s 21ms/step - loss: 0.0176 - accuracy: 0.6576 - val_loss: 0.0176 - val_accuracy: 0.7468\n",
      "Epoch 10/10\n",
      "4/4 [==============================] - 0s 21ms/step - loss: 0.0176 - accuracy: 0.6440 - val_loss: 0.0176 - val_accuracy: 0.7890\n"
     ]
    }
   ],
   "source": [
    "#fit model to dataset\n",
    "history1 = model1.fit(X_train, y_train, validation_data=(X_train, y_train), epochs=10, batch_size=64, workers = -2)"
   ]
  },
  {
   "cell_type": "code",
   "execution_count": 41,
   "metadata": {},
   "outputs": [
    {
     "data": {
      "image/png": "[encoded data removed]",
      "text/plain": [
       "<Figure size 864x576 with 1 Axes>"
      ]
     },
     "metadata": {
      "needs_background": "light"
     },
     "output_type": "display_data"
    }
   ],
   "source": [
    "# Visualize the loss\n",
    "train_loss = history.history['loss']\n",
    "test_loss = history.history['val_loss']\n",
    "\n",
    "plt.figure(figsize=(12, 8))\n",
    "plt.plot(train_loss, label='Training loss', color='navy')\n",
    "plt.plot(test_loss, label='Testing loss', color='skyblue')\n",
    "plt.legend();"
   ]
  },
  {
   "cell_type": "code",
   "execution_count": 46,
   "metadata": {},
   "outputs": [
    {
     "data": {
      "image/png": "[encoded data removed]",
      "text/plain": [
       "<Figure size 432x288 with 1 Axes>"
      ]
     },
     "metadata": {
      "needs_background": "light"
     },
     "output_type": "display_data"
    }
   ],
   "source": [
    "# Visualize loss\n",
    "train_loss = history1.history['loss']\n",
    "test_loss = history1.history['val_loss']\n",
    "\n",
    "plt.plot(history1.history['accuracy'], label='Train accuracy')\n",
    "plt.plot(history1.history['val_accuracy'], label='Val accuracy')\n",
    "plt.legend();"
   ]
  },
  {
   "cell_type": "code",
   "execution_count": 53,
   "metadata": {},
   "outputs": [
    {
     "name": "stderr",
     "output_type": "stream",
     "text": [
      "C:\\Users\\jesse\\Anaconda3\\lib\\site-packages\\tensorflow\\python\\keras\\engine\\sequential.py:450: UserWarning: `model.predict_classes()` is deprecated and will be removed after 2021-01-01. Please use instead:* `np.argmax(model.predict(x), axis=-1)`,   if your model does multi-class classification   (e.g. if it uses a `softmax` last-layer activation).* `(model.predict(x) > 0.5).astype(\"int32\")`,   if your model does binary classification   (e.g. if it uses a `sigmoid` last-layer activation).\n",
      "  warnings.warn('`model.predict_classes()` is deprecated and '\n"
     ]
    },
    {
     "name": "stdout",
     "output_type": "stream",
     "text": [
      "Recall score: 0.87\n",
      "Accuracy score: 0.87\n",
      "F1-score score: 0.87\n",
      "Precision score: 0.81\n"
     ]
    }
   ],
   "source": [
    "print(f\"Recall score: {np.round(recall_score(y_test, model1.predict_classes(X_test), average = 'weighted'),2)}\")\n",
    "print(f\"Accuracy score: {np.round(accuracy_score(y_test, model1.predict_classes(X_test),),2)}\")\n",
    "print(f\"F1-score score: {np.round(f1_score(y_test, model1.predict_classes(X_test),),2)}\")\n",
    "print(f\"Precision score: {np.round(precision_score(y_test, model1.predict_classes(X_test),),2)}\")"
   ]
  },
  {
   "cell_type": "markdown",
   "metadata": {
    "id": "P2g8fNYPhe5t"
   },
   "source": [
    "#### Save your best model. \n"
   ]
  },
  {
   "cell_type": "code",
   "execution_count": 43,
   "metadata": {},
   "outputs": [
    {
     "name": "stdout",
     "output_type": "stream",
     "text": [
      "INFO:tensorflow:Assets written to: ./best_nn_model\\assets\n"
     ]
    }
   ],
   "source": [
    "model1.save('./best_nn_model') "
   ]
  },
  {
   "cell_type": "code",
   "execution_count": 44,
   "metadata": {},
   "outputs": [],
   "source": [
    "y_pred=model.predict(X_test)"
   ]
  },
  {
   "cell_type": "markdown",
   "metadata": {
    "id": "8Y2AqHwEh4A_"
   },
   "source": [
    "#### Compare with other algorithms\n",
    "Compare your best neural net model to a scikit-learn LogisticRegression model. Also try a GradientBoostingClassifier."
   ]
  },
  {
   "cell_type": "markdown",
   "metadata": {
    "id": "HtoS8JaYyWOM"
   },
   "source": [
    "#### Scale/Standardize for Logistic Regression\n"
   ]
  },
  {
   "cell_type": "code",
   "execution_count": null,
   "metadata": {
    "id": "A5_RtKAkuN4l"
   },
   "outputs": [],
   "source": [
    "#Already scaled data"
   ]
  },
  {
   "cell_type": "markdown",
   "metadata": {
    "id": "sWIVhO5tyaEt"
   },
   "source": [
    "#### Logistic Regression"
   ]
  },
  {
   "cell_type": "code",
   "execution_count": 50,
   "metadata": {},
   "outputs": [],
   "source": [
    "lr = LogisticRegression()"
   ]
  },
  {
   "cell_type": "code",
   "execution_count": 52,
   "metadata": {},
   "outputs": [
    {
     "name": "stderr",
     "output_type": "stream",
     "text": [
      "C:\\Users\\jesse\\Anaconda3\\lib\\site-packages\\sklearn\\utils\\validation.py:72: DataConversionWarning: A column-vector y was passed when a 1d array was expected. Please change the shape of y to (n_samples, ), for example using ravel().\n",
      "  return f(**kwargs)\n"
     ]
    },
    {
     "data": {
      "text/plain": [
       "0.8734177215189873"
      ]
     },
     "execution_count": 52,
     "metadata": {},
     "output_type": "execute_result"
    }
   ],
   "source": [
    "lr.fit(X_train, y_train)\n",
    "lr.score(X_train, y_train)"
   ]
  },
  {
   "cell_type": "markdown",
   "metadata": {
    "id": "gp1fbbJXzDCC"
   },
   "source": [
    "#### Evaluate performance on metrics other than accuracy"
   ]
  },
  {
   "cell_type": "code",
   "execution_count": 55,
   "metadata": {
    "colab": {
     "base_uri": "https://localhost:8080/",
     "height": 34
    },
    "id": "De4E9nPhzDW0",
    "outputId": "e717be52-8423-4840-fdc1-d81f692f6a77"
   },
   "outputs": [
    {
     "name": "stdout",
     "output_type": "stream",
     "text": [
      "Recall score: 0.85\n",
      "Accuracy score: 0.85\n",
      "F1-score score: 0.83\n",
      "Precision score: 0.88\n"
     ]
    }
   ],
   "source": [
    "print(f\"Recall score: {np.round(recall_score(y_test, lr.predict(X_test), average = 'weighted'),2)}\")\n",
    "print(f\"Accuracy score: {np.round(accuracy_score(y_test, lr.predict(X_test),),2)}\")\n",
    "print(f\"F1-score score: {np.round(f1_score(y_test, lr.predict(X_test),),2)}\")\n",
    "print(f\"Precision score: {np.round(precision_score(y_test, lr.predict(X_test),),2)}\")"
   ]
  },
  {
   "cell_type": "markdown",
   "metadata": {
    "id": "E04fXBHexQdX"
   },
   "source": [
    "### GradientBoosting"
   ]
  },
  {
   "cell_type": "code",
   "execution_count": 58,
   "metadata": {
    "colab": {
     "base_uri": "https://localhost:8080/",
     "height": 87
    },
    "id": "fO5py5Xvyqon",
    "outputId": "94d443d2-2e5b-4967-e5c1-91d1a984e483"
   },
   "outputs": [],
   "source": [
    "gbc = GradientBoostingClassifier()"
   ]
  },
  {
   "cell_type": "code",
   "execution_count": 59,
   "metadata": {
    "colab": {
     "base_uri": "https://localhost:8080/",
     "height": 34
    },
    "id": "kHMYGfyDvMcM",
    "outputId": "5ec643c5-12b9-40aa-ba05-a12fe76c12c7"
   },
   "outputs": [
    {
     "name": "stderr",
     "output_type": "stream",
     "text": [
      "C:\\Users\\jesse\\Anaconda3\\lib\\site-packages\\sklearn\\utils\\validation.py:72: DataConversionWarning: A column-vector y was passed when a 1d array was expected. Please change the shape of y to (n_samples, ), for example using ravel().\n",
      "  return f(**kwargs)\n"
     ]
    },
    {
     "data": {
      "text/plain": [
       "0.9957805907172996"
      ]
     },
     "execution_count": 59,
     "metadata": {},
     "output_type": "execute_result"
    }
   ],
   "source": [
    "gbc.fit(X_train, y_train)\n",
    "gbc.score(X_train, y_train)"
   ]
  },
  {
   "cell_type": "markdown",
   "metadata": {
    "id": "nojEwxvjy4f-"
   },
   "source": [
    "#### Evaluate performance on metrics other than accuracy"
   ]
  },
  {
   "cell_type": "code",
   "execution_count": 61,
   "metadata": {
    "colab": {
     "base_uri": "https://localhost:8080/",
     "height": 34
    },
    "id": "Gl-9aQxZxiKg",
    "outputId": "33cff554-2999-4d4d-92ac-c541fed07780"
   },
   "outputs": [
    {
     "name": "stdout",
     "output_type": "stream",
     "text": [
      "Recall score: 0.78\n",
      "Accuracy score: 0.78\n",
      "F1-score score: 0.75\n",
      "Precision score: 0.8\n"
     ]
    }
   ],
   "source": [
    "print(f\"Recall score: {np.round(recall_score(y_test, gbc.predict(X_test), average = 'weighted'),2)}\")\n",
    "print(f\"Accuracy score: {np.round(accuracy_score(y_test, gbc.predict(X_test),),2)}\")\n",
    "print(f\"F1-score score: {np.round(f1_score(y_test, gbc.predict(X_test),),2)}\")\n",
    "print(f\"Precision score: {np.round(precision_score(y_test, gbc.predict(X_test),),2)}\")"
   ]
  },
  {
   "cell_type": "markdown",
   "metadata": {
    "id": "i1m6ZZ5UiKBX"
   },
   "source": [
    "#### Which evaluation metric(s) are best to use in this problem?"
   ]
  },
  {
   "cell_type": "markdown",
   "metadata": {
    "id": "xEBF6anpz9ta"
   },
   "source": [
    "Precision and specificity are good metrics to use for this problem. For healthcare, having false positives for heart issues is better than missing a true negative as the results may be fatal. "
   ]
  },
  {
   "cell_type": "markdown",
   "metadata": {
    "id": "qx8eLEhC3fC9"
   },
   "source": [
    "#### Which model would you recommend for use? Why?"
   ]
  },
  {
   "cell_type": "markdown",
   "metadata": {
    "id": "DgDvq3lc3WCd"
   },
   "source": [
    "I would recommend using the Logistic Regression model. It is a simple and computationally efficient model. Additionally, it has very close scores to the other tested models and is white box (compared to the Neural Network which is black box) which means that feature importance can be extracted from the algorithm."
   ]
  },
  {
   "cell_type": "markdown",
   "metadata": {
    "id": "OB8r5k5j34l4"
   },
   "source": [
    "\n",
    "#### If you used Google Colab, download your notebook and put it in your Submissions repo. 🎉"
   ]
  }
 ],
 "metadata": {
  "accelerator": "TPU",
  "colab": {
   "collapsed_sections": [],
   "name": "7.01-lab-nn-classification-solution.ipynb",
   "provenance": []
  },
  "kernelspec": {
   "display_name": "Python 3",
   "language": "python",
   "name": "python3"
  },
  "language_info": {
   "codemirror_mode": {
    "name": "ipython",
    "version": 3
   },
   "file_extension": ".py",
   "mimetype": "text/x-python",
   "name": "python",
   "nbconvert_exporter": "python",
   "pygments_lexer": "ipython3",
   "version": "3.8.5"
  }
 },
 "nbformat": 4,
 "nbformat_minor": 4
}
