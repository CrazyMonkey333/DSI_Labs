{
  "nbformat": 4,
  "nbformat_minor": 0,
  "metadata": {
    "accelerator": "TPU",
    "colab": {
      "name": "7.01-lab-nn-classification-starter.ipynb",
      "provenance": [],
      "collapsed_sections": []
    },
    "kernelspec": {
      "display_name": "Python 3",
      "language": "python",
      "name": "python3"
    },
    "language_info": {
      "codemirror_mode": {
        "name": "ipython",
        "version": 3
      },
      "file_extension": ".py",
      "mimetype": "text/x-python",
      "name": "python",
      "nbconvert_exporter": "python",
      "pygments_lexer": "ipython3",
      "version": "3.7.9"
    }
  },
  "cells": [
    {
      "cell_type": "markdown",
      "metadata": {
        "id": "zwBCE43Cv3PH"
      },
      "source": [
        "## Lab 7.01 Neural Network Binary Classification\n",
        "_By: Jeff Hale_"
      ]
    },
    {
      "cell_type": "markdown",
      "metadata": {
        "id": "UmyEaf4Awl2v"
      },
      "source": [
        "This lab uses a small [dataset](https://archive.ics.uci.edu/ml/datasets/heart+Disease) provided by the Cleveland Clinic Foundation for Heart Disease. The goal is to predict whether a patient has heart disease (the *target* column)."
      ]
    },
    {
      "cell_type": "markdown",
      "metadata": {
        "id": "uyVxPib57SeE"
      },
      "source": [
        "We suggest running this lab in [Google Colab](https://colab.research.google.com/). \n",
        "\n",
        "Go *File*->*Upload notebook* to upload this notebook to colab.\n",
        "\n",
        "If you are working in Colab and want to see if you can get a speed boost, set your runtime to *TPU* by going to *Runtime* -> *Change runtime type* in the menu above. \n",
        "\n",
        "The processor type won't make a big difference with this small dataset and small networks, but it's good to know how to change the processor."
      ]
    },
    {
      "cell_type": "markdown",
      "metadata": {
        "id": "iiyC7HkqxlUD"
      },
      "source": [
        "### Read data and load using pandas\n",
        "\n",
        "#### Imports"
      ]
    },
    {
      "cell_type": "code",
      "metadata": {
        "id": "5IoRbCA2n0_V",
        "colab": {
          "base_uri": "https://localhost:8080/"
        },
        "outputId": "561cf7fa-2557-4b4c-d35f-43b592b86d4a"
      },
      "source": [
        "import pandas as pd\n",
        "import numpy as np\n",
        "import matplotlib.pyplot as plt\n",
        "import tensorflow as tf\n",
        "from tensorflow.keras.models import Sequential\n",
        "from tensorflow.keras.regularizers import l2\n",
        "from tensorflow.keras.layers import Dense, Dropout\n",
        "from sklearn.model_selection import train_test_split\n",
        "from tensorflow.keras.callbacks import EarlyStopping\n",
        "from tensorflow.keras.utils import to_categorical\n",
        "from sklearn.metrics import confusion_matrix, plot_confusion_matrix\n",
        "from sklearn.metrics import recall_score, accuracy_score, f1_score, precision_score\n",
        "from sklearn.linear_model import LogisticRegression\n",
        "from sklearn.ensemble import GradientBoostingClassifier\n",
        "import seaborn as sns\n",
        "from sklearn.preprocessing import StandardScaler\n",
        "import category_encoders as ce"
      ],
      "execution_count": 14,
      "outputs": [
        {
          "output_type": "stream",
          "text": [
            "/usr/local/lib/python3.6/dist-packages/statsmodels/tools/_testing.py:19: FutureWarning: pandas.util.testing is deprecated. Use the functions in the public API at pandas.testing instead.\n",
            "  import pandas.util.testing as tm\n"
          ],
          "name": "stderr"
        }
      ]
    },
    {
      "cell_type": "markdown",
      "metadata": {
        "id": "-2kBGy_pxn47"
      },
      "source": [
        "Retrieve the csv file containing the heart dataset that ships with TensorFlow."
      ]
    },
    {
      "cell_type": "code",
      "metadata": {
        "id": "VS4w2LePn9g3"
      },
      "source": [
        "csv_file = tf.keras.utils.get_file('heart.csv', 'https://storage.googleapis.com/download.tensorflow.org/data/heart.csv')"
      ],
      "execution_count": 2,
      "outputs": []
    },
    {
      "cell_type": "markdown",
      "metadata": {
        "id": "6BXRPD2-xtQ1"
      },
      "source": [
        "#### Load the csv file using pandas"
      ]
    },
    {
      "cell_type": "code",
      "metadata": {
        "id": "UEfJ8TcMpe-2"
      },
      "source": [
        "heart_df = pd.read_csv(csv_file)"
      ],
      "execution_count": 3,
      "outputs": []
    },
    {
      "cell_type": "markdown",
      "metadata": {
        "id": "b0GjI3oJ_Xpz"
      },
      "source": [
        "#### Inspect"
      ]
    },
    {
      "cell_type": "code",
      "metadata": {
        "colab": {
          "base_uri": "https://localhost:8080/"
        },
        "id": "dMsIUkInm6UN",
        "outputId": "45cad94a-90c1-4f62-d539-1398692aceac"
      },
      "source": [
        "heart_df.shape"
      ],
      "execution_count": 4,
      "outputs": [
        {
          "output_type": "execute_result",
          "data": {
            "text/plain": [
              "(303, 14)"
            ]
          },
          "metadata": {
            "tags": []
          },
          "execution_count": 4
        }
      ]
    },
    {
      "cell_type": "code",
      "metadata": {
        "colab": {
          "base_uri": "https://localhost:8080/",
          "height": 194
        },
        "id": "8FkK6QIRpjd4",
        "outputId": "81218576-02a4-4750-ff3b-135227afc043"
      },
      "source": [
        "heart_df.head()"
      ],
      "execution_count": 5,
      "outputs": [
        {
          "output_type": "execute_result",
          "data": {
            "text/html": [
              "<div>\n",
              "<style scoped>\n",
              "    .dataframe tbody tr th:only-of-type {\n",
              "        vertical-align: middle;\n",
              "    }\n",
              "\n",
              "    .dataframe tbody tr th {\n",
              "        vertical-align: top;\n",
              "    }\n",
              "\n",
              "    .dataframe thead th {\n",
              "        text-align: right;\n",
              "    }\n",
              "</style>\n",
              "<table border=\"1\" class=\"dataframe\">\n",
              "  <thead>\n",
              "    <tr style=\"text-align: right;\">\n",
              "      <th></th>\n",
              "      <th>age</th>\n",
              "      <th>sex</th>\n",
              "      <th>cp</th>\n",
              "      <th>trestbps</th>\n",
              "      <th>chol</th>\n",
              "      <th>fbs</th>\n",
              "      <th>restecg</th>\n",
              "      <th>thalach</th>\n",
              "      <th>exang</th>\n",
              "      <th>oldpeak</th>\n",
              "      <th>slope</th>\n",
              "      <th>ca</th>\n",
              "      <th>thal</th>\n",
              "      <th>target</th>\n",
              "    </tr>\n",
              "  </thead>\n",
              "  <tbody>\n",
              "    <tr>\n",
              "      <th>0</th>\n",
              "      <td>63</td>\n",
              "      <td>1</td>\n",
              "      <td>1</td>\n",
              "      <td>145</td>\n",
              "      <td>233</td>\n",
              "      <td>1</td>\n",
              "      <td>2</td>\n",
              "      <td>150</td>\n",
              "      <td>0</td>\n",
              "      <td>2.3</td>\n",
              "      <td>3</td>\n",
              "      <td>0</td>\n",
              "      <td>fixed</td>\n",
              "      <td>0</td>\n",
              "    </tr>\n",
              "    <tr>\n",
              "      <th>1</th>\n",
              "      <td>67</td>\n",
              "      <td>1</td>\n",
              "      <td>4</td>\n",
              "      <td>160</td>\n",
              "      <td>286</td>\n",
              "      <td>0</td>\n",
              "      <td>2</td>\n",
              "      <td>108</td>\n",
              "      <td>1</td>\n",
              "      <td>1.5</td>\n",
              "      <td>2</td>\n",
              "      <td>3</td>\n",
              "      <td>normal</td>\n",
              "      <td>1</td>\n",
              "    </tr>\n",
              "    <tr>\n",
              "      <th>2</th>\n",
              "      <td>67</td>\n",
              "      <td>1</td>\n",
              "      <td>4</td>\n",
              "      <td>120</td>\n",
              "      <td>229</td>\n",
              "      <td>0</td>\n",
              "      <td>2</td>\n",
              "      <td>129</td>\n",
              "      <td>1</td>\n",
              "      <td>2.6</td>\n",
              "      <td>2</td>\n",
              "      <td>2</td>\n",
              "      <td>reversible</td>\n",
              "      <td>0</td>\n",
              "    </tr>\n",
              "    <tr>\n",
              "      <th>3</th>\n",
              "      <td>37</td>\n",
              "      <td>1</td>\n",
              "      <td>3</td>\n",
              "      <td>130</td>\n",
              "      <td>250</td>\n",
              "      <td>0</td>\n",
              "      <td>0</td>\n",
              "      <td>187</td>\n",
              "      <td>0</td>\n",
              "      <td>3.5</td>\n",
              "      <td>3</td>\n",
              "      <td>0</td>\n",
              "      <td>normal</td>\n",
              "      <td>0</td>\n",
              "    </tr>\n",
              "    <tr>\n",
              "      <th>4</th>\n",
              "      <td>41</td>\n",
              "      <td>0</td>\n",
              "      <td>2</td>\n",
              "      <td>130</td>\n",
              "      <td>204</td>\n",
              "      <td>0</td>\n",
              "      <td>2</td>\n",
              "      <td>172</td>\n",
              "      <td>0</td>\n",
              "      <td>1.4</td>\n",
              "      <td>1</td>\n",
              "      <td>0</td>\n",
              "      <td>normal</td>\n",
              "      <td>0</td>\n",
              "    </tr>\n",
              "  </tbody>\n",
              "</table>\n",
              "</div>"
            ],
            "text/plain": [
              "   age  sex  cp  trestbps  chol  ...  oldpeak  slope  ca        thal  target\n",
              "0   63    1   1       145   233  ...      2.3      3   0       fixed       0\n",
              "1   67    1   4       160   286  ...      1.5      2   3      normal       1\n",
              "2   67    1   4       120   229  ...      2.6      2   2  reversible       0\n",
              "3   37    1   3       130   250  ...      3.5      3   0      normal       0\n",
              "4   41    0   2       130   204  ...      1.4      1   0      normal       0\n",
              "\n",
              "[5 rows x 14 columns]"
            ]
          },
          "metadata": {
            "tags": []
          },
          "execution_count": 5
        }
      ]
    },
    {
      "cell_type": "code",
      "metadata": {
        "colab": {
          "base_uri": "https://localhost:8080/"
        },
        "id": "_MOAKz654CT5",
        "outputId": "71485e7e-cb55-4e7d-c05b-ac1dc9fafd8a"
      },
      "source": [
        "heart_df.info()"
      ],
      "execution_count": 6,
      "outputs": [
        {
          "output_type": "stream",
          "text": [
            "<class 'pandas.core.frame.DataFrame'>\n",
            "RangeIndex: 303 entries, 0 to 302\n",
            "Data columns (total 14 columns):\n",
            " #   Column    Non-Null Count  Dtype  \n",
            "---  ------    --------------  -----  \n",
            " 0   age       303 non-null    int64  \n",
            " 1   sex       303 non-null    int64  \n",
            " 2   cp        303 non-null    int64  \n",
            " 3   trestbps  303 non-null    int64  \n",
            " 4   chol      303 non-null    int64  \n",
            " 5   fbs       303 non-null    int64  \n",
            " 6   restecg   303 non-null    int64  \n",
            " 7   thalach   303 non-null    int64  \n",
            " 8   exang     303 non-null    int64  \n",
            " 9   oldpeak   303 non-null    float64\n",
            " 10  slope     303 non-null    int64  \n",
            " 11  ca        303 non-null    int64  \n",
            " 12  thal      303 non-null    object \n",
            " 13  target    303 non-null    int64  \n",
            "dtypes: float64(1), int64(12), object(1)\n",
            "memory usage: 33.3+ KB\n"
          ],
          "name": "stdout"
        }
      ]
    },
    {
      "cell_type": "markdown",
      "metadata": {
        "id": "4iIvlwqwWoWc"
      },
      "source": [
        "#### Check the value counts of the columns that are objects"
      ]
    },
    {
      "cell_type": "code",
      "metadata": {
        "colab": {
          "base_uri": "https://localhost:8080/",
          "height": 76
        },
        "id": "o1rzjsfWpH78",
        "outputId": "03fbe742-e00a-49c6-f6dc-48a29b6a7173"
      },
      "source": [
        "heart_df[heart_df['thal']=='2']"
      ],
      "execution_count": 7,
      "outputs": [
        {
          "output_type": "execute_result",
          "data": {
            "text/html": [
              "<div>\n",
              "<style scoped>\n",
              "    .dataframe tbody tr th:only-of-type {\n",
              "        vertical-align: middle;\n",
              "    }\n",
              "\n",
              "    .dataframe tbody tr th {\n",
              "        vertical-align: top;\n",
              "    }\n",
              "\n",
              "    .dataframe thead th {\n",
              "        text-align: right;\n",
              "    }\n",
              "</style>\n",
              "<table border=\"1\" class=\"dataframe\">\n",
              "  <thead>\n",
              "    <tr style=\"text-align: right;\">\n",
              "      <th></th>\n",
              "      <th>age</th>\n",
              "      <th>sex</th>\n",
              "      <th>cp</th>\n",
              "      <th>trestbps</th>\n",
              "      <th>chol</th>\n",
              "      <th>fbs</th>\n",
              "      <th>restecg</th>\n",
              "      <th>thalach</th>\n",
              "      <th>exang</th>\n",
              "      <th>oldpeak</th>\n",
              "      <th>slope</th>\n",
              "      <th>ca</th>\n",
              "      <th>thal</th>\n",
              "      <th>target</th>\n",
              "    </tr>\n",
              "  </thead>\n",
              "  <tbody>\n",
              "    <tr>\n",
              "      <th>252</th>\n",
              "      <td>57</td>\n",
              "      <td>0</td>\n",
              "      <td>1</td>\n",
              "      <td>130</td>\n",
              "      <td>236</td>\n",
              "      <td>0</td>\n",
              "      <td>0</td>\n",
              "      <td>174</td>\n",
              "      <td>0</td>\n",
              "      <td>0.0</td>\n",
              "      <td>1</td>\n",
              "      <td>1</td>\n",
              "      <td>2</td>\n",
              "      <td>0</td>\n",
              "    </tr>\n",
              "  </tbody>\n",
              "</table>\n",
              "</div>"
            ],
            "text/plain": [
              "     age  sex  cp  trestbps  chol  fbs  ...  exang  oldpeak  slope  ca  thal  target\n",
              "252   57    0   1       130   236    0  ...      0      0.0      1   1     2       0\n",
              "\n",
              "[1 rows x 14 columns]"
            ]
          },
          "metadata": {
            "tags": []
          },
          "execution_count": 7
        }
      ]
    },
    {
      "cell_type": "code",
      "metadata": {
        "colab": {
          "base_uri": "https://localhost:8080/",
          "height": 76
        },
        "id": "QGPLvlkao87z",
        "outputId": "11ea0b0f-5344-4fcf-ea7a-d5b7dfce66f0"
      },
      "source": [
        "heart_df[heart_df['thal']=='1']"
      ],
      "execution_count": 8,
      "outputs": [
        {
          "output_type": "execute_result",
          "data": {
            "text/html": [
              "<div>\n",
              "<style scoped>\n",
              "    .dataframe tbody tr th:only-of-type {\n",
              "        vertical-align: middle;\n",
              "    }\n",
              "\n",
              "    .dataframe tbody tr th {\n",
              "        vertical-align: top;\n",
              "    }\n",
              "\n",
              "    .dataframe thead th {\n",
              "        text-align: right;\n",
              "    }\n",
              "</style>\n",
              "<table border=\"1\" class=\"dataframe\">\n",
              "  <thead>\n",
              "    <tr style=\"text-align: right;\">\n",
              "      <th></th>\n",
              "      <th>age</th>\n",
              "      <th>sex</th>\n",
              "      <th>cp</th>\n",
              "      <th>trestbps</th>\n",
              "      <th>chol</th>\n",
              "      <th>fbs</th>\n",
              "      <th>restecg</th>\n",
              "      <th>thalach</th>\n",
              "      <th>exang</th>\n",
              "      <th>oldpeak</th>\n",
              "      <th>slope</th>\n",
              "      <th>ca</th>\n",
              "      <th>thal</th>\n",
              "      <th>target</th>\n",
              "    </tr>\n",
              "  </thead>\n",
              "  <tbody>\n",
              "    <tr>\n",
              "      <th>247</th>\n",
              "      <td>59</td>\n",
              "      <td>1</td>\n",
              "      <td>0</td>\n",
              "      <td>164</td>\n",
              "      <td>176</td>\n",
              "      <td>1</td>\n",
              "      <td>0</td>\n",
              "      <td>90</td>\n",
              "      <td>0</td>\n",
              "      <td>1.0</td>\n",
              "      <td>1</td>\n",
              "      <td>2</td>\n",
              "      <td>1</td>\n",
              "      <td>0</td>\n",
              "    </tr>\n",
              "  </tbody>\n",
              "</table>\n",
              "</div>"
            ],
            "text/plain": [
              "     age  sex  cp  trestbps  chol  fbs  ...  exang  oldpeak  slope  ca  thal  target\n",
              "247   59    1   0       164   176    1  ...      0      1.0      1   2     1       0\n",
              "\n",
              "[1 rows x 14 columns]"
            ]
          },
          "metadata": {
            "tags": []
          },
          "execution_count": 8
        }
      ]
    },
    {
      "cell_type": "code",
      "metadata": {
        "colab": {
          "base_uri": "https://localhost:8080/"
        },
        "id": "dP3Z4KoDstlZ",
        "outputId": "625cad99-93a8-47a9-cf86-449fc56e1268"
      },
      "source": [
        "heart_df['thal'].value_counts()"
      ],
      "execution_count": 9,
      "outputs": [
        {
          "output_type": "execute_result",
          "data": {
            "text/plain": [
              "normal        168\n",
              "reversible    115\n",
              "fixed          18\n",
              "2               1\n",
              "1               1\n",
              "Name: thal, dtype: int64"
            ]
          },
          "metadata": {
            "tags": []
          },
          "execution_count": 9
        }
      ]
    },
    {
      "cell_type": "code",
      "metadata": {
        "id": "03Lo23PkpO7T"
      },
      "source": [
        "heart_df.drop(index=[252,247], inplace=True)"
      ],
      "execution_count": 10,
      "outputs": []
    },
    {
      "cell_type": "code",
      "metadata": {
        "id": "_XBmdt_2popt"
      },
      "source": [
        "heart_df.reset_index(inplace=True)"
      ],
      "execution_count": 11,
      "outputs": []
    },
    {
      "cell_type": "code",
      "metadata": {
        "colab": {
          "base_uri": "https://localhost:8080/"
        },
        "id": "nz21aRrE3InF",
        "outputId": "29f2d0ad-b157-4bc6-9308-749a0aef6895"
      },
      "source": [
        "heart_df['thal'].value_counts()"
      ],
      "execution_count": 12,
      "outputs": [
        {
          "output_type": "execute_result",
          "data": {
            "text/plain": [
              "normal        168\n",
              "reversible    115\n",
              "fixed          18\n",
              "Name: thal, dtype: int64"
            ]
          },
          "metadata": {
            "tags": []
          },
          "execution_count": 12
        }
      ]
    },
    {
      "cell_type": "markdown",
      "metadata": {
        "id": "WWRhH6r4xxQu"
      },
      "source": [
        "You could load data into a format for TensorFlow using `tf.data.Dataset`, but these are unwieldly - it's a serious pain to create a validation dataset from a TF dataset. You used to have to make your data into NumPy arrays for TensorFlow. Now you can just keep them as pandas DataFrames!"
      ]
    },
    {
      "cell_type": "markdown",
      "metadata": {
        "id": "_Q2UBP73_Xp1"
      },
      "source": [
        "#### Set up X and y\n",
        "Convert `ChestPain`, `Thal`, and `AHD` (the target) columns to numeric.\n",
        "To convert features to numeric, feel free to give this friendlier OHE a try:\n",
        "```\n",
        "!pip install category_encoders \n",
        "import category_encoders as ce\n",
        "```"
      ]
    },
    {
      "cell_type": "code",
      "metadata": {
        "id": "2wwhILm1ycSp",
        "colab": {
          "base_uri": "https://localhost:8080/"
        },
        "outputId": "698ac1b2-90d9-49ed-ad52-469bbb3dc151"
      },
      "source": [
        "# !pip install category_encoders \r\n",
        "# import category_encoders as ce"
      ],
      "execution_count": 23,
      "outputs": [
        {
          "output_type": "stream",
          "text": [
            "/usr/local/lib/python3.6/dist-packages/statsmodels/tools/_testing.py:19: FutureWarning: pandas.util.testing is deprecated. Use the functions in the public API at pandas.testing instead.\n",
            "  import pandas.util.testing as tm\n"
          ],
          "name": "stderr"
        }
      ]
    },
    {
      "cell_type": "code",
      "metadata": {
        "id": "p68OVEx7fLOt",
        "colab": {
          "base_uri": "https://localhost:8080/",
          "height": 399
        },
        "outputId": "64463c29-3fd1-4b7e-8efa-47c7bd5a7a04"
      },
      "source": [
        "encoder= ce.OrdinalEncoder(cols=['thal'],return_df=True,                           \r\n",
        "             mapping=[{'col':'thal', \r\n",
        "'mapping':{'normal':0,'reversible':1,'fixed':2}}]) \r\n",
        "heart_df"
      ],
      "execution_count": 15,
      "outputs": [
        {
          "output_type": "execute_result",
          "data": {
            "text/html": [
              "<div>\n",
              "<style scoped>\n",
              "    .dataframe tbody tr th:only-of-type {\n",
              "        vertical-align: middle;\n",
              "    }\n",
              "\n",
              "    .dataframe tbody tr th {\n",
              "        vertical-align: top;\n",
              "    }\n",
              "\n",
              "    .dataframe thead th {\n",
              "        text-align: right;\n",
              "    }\n",
              "</style>\n",
              "<table border=\"1\" class=\"dataframe\">\n",
              "  <thead>\n",
              "    <tr style=\"text-align: right;\">\n",
              "      <th></th>\n",
              "      <th>index</th>\n",
              "      <th>age</th>\n",
              "      <th>sex</th>\n",
              "      <th>cp</th>\n",
              "      <th>trestbps</th>\n",
              "      <th>chol</th>\n",
              "      <th>fbs</th>\n",
              "      <th>restecg</th>\n",
              "      <th>thalach</th>\n",
              "      <th>exang</th>\n",
              "      <th>oldpeak</th>\n",
              "      <th>slope</th>\n",
              "      <th>ca</th>\n",
              "      <th>thal</th>\n",
              "      <th>target</th>\n",
              "    </tr>\n",
              "  </thead>\n",
              "  <tbody>\n",
              "    <tr>\n",
              "      <th>0</th>\n",
              "      <td>0</td>\n",
              "      <td>63</td>\n",
              "      <td>1</td>\n",
              "      <td>1</td>\n",
              "      <td>145</td>\n",
              "      <td>233</td>\n",
              "      <td>1</td>\n",
              "      <td>2</td>\n",
              "      <td>150</td>\n",
              "      <td>0</td>\n",
              "      <td>2.3</td>\n",
              "      <td>3</td>\n",
              "      <td>0</td>\n",
              "      <td>fixed</td>\n",
              "      <td>0</td>\n",
              "    </tr>\n",
              "    <tr>\n",
              "      <th>1</th>\n",
              "      <td>1</td>\n",
              "      <td>67</td>\n",
              "      <td>1</td>\n",
              "      <td>4</td>\n",
              "      <td>160</td>\n",
              "      <td>286</td>\n",
              "      <td>0</td>\n",
              "      <td>2</td>\n",
              "      <td>108</td>\n",
              "      <td>1</td>\n",
              "      <td>1.5</td>\n",
              "      <td>2</td>\n",
              "      <td>3</td>\n",
              "      <td>normal</td>\n",
              "      <td>1</td>\n",
              "    </tr>\n",
              "    <tr>\n",
              "      <th>2</th>\n",
              "      <td>2</td>\n",
              "      <td>67</td>\n",
              "      <td>1</td>\n",
              "      <td>4</td>\n",
              "      <td>120</td>\n",
              "      <td>229</td>\n",
              "      <td>0</td>\n",
              "      <td>2</td>\n",
              "      <td>129</td>\n",
              "      <td>1</td>\n",
              "      <td>2.6</td>\n",
              "      <td>2</td>\n",
              "      <td>2</td>\n",
              "      <td>reversible</td>\n",
              "      <td>0</td>\n",
              "    </tr>\n",
              "    <tr>\n",
              "      <th>3</th>\n",
              "      <td>3</td>\n",
              "      <td>37</td>\n",
              "      <td>1</td>\n",
              "      <td>3</td>\n",
              "      <td>130</td>\n",
              "      <td>250</td>\n",
              "      <td>0</td>\n",
              "      <td>0</td>\n",
              "      <td>187</td>\n",
              "      <td>0</td>\n",
              "      <td>3.5</td>\n",
              "      <td>3</td>\n",
              "      <td>0</td>\n",
              "      <td>normal</td>\n",
              "      <td>0</td>\n",
              "    </tr>\n",
              "    <tr>\n",
              "      <th>4</th>\n",
              "      <td>4</td>\n",
              "      <td>41</td>\n",
              "      <td>0</td>\n",
              "      <td>2</td>\n",
              "      <td>130</td>\n",
              "      <td>204</td>\n",
              "      <td>0</td>\n",
              "      <td>2</td>\n",
              "      <td>172</td>\n",
              "      <td>0</td>\n",
              "      <td>1.4</td>\n",
              "      <td>1</td>\n",
              "      <td>0</td>\n",
              "      <td>normal</td>\n",
              "      <td>0</td>\n",
              "    </tr>\n",
              "    <tr>\n",
              "      <th>...</th>\n",
              "      <td>...</td>\n",
              "      <td>...</td>\n",
              "      <td>...</td>\n",
              "      <td>...</td>\n",
              "      <td>...</td>\n",
              "      <td>...</td>\n",
              "      <td>...</td>\n",
              "      <td>...</td>\n",
              "      <td>...</td>\n",
              "      <td>...</td>\n",
              "      <td>...</td>\n",
              "      <td>...</td>\n",
              "      <td>...</td>\n",
              "      <td>...</td>\n",
              "      <td>...</td>\n",
              "    </tr>\n",
              "    <tr>\n",
              "      <th>296</th>\n",
              "      <td>298</td>\n",
              "      <td>52</td>\n",
              "      <td>1</td>\n",
              "      <td>1</td>\n",
              "      <td>118</td>\n",
              "      <td>186</td>\n",
              "      <td>0</td>\n",
              "      <td>2</td>\n",
              "      <td>190</td>\n",
              "      <td>0</td>\n",
              "      <td>0.0</td>\n",
              "      <td>2</td>\n",
              "      <td>0</td>\n",
              "      <td>fixed</td>\n",
              "      <td>0</td>\n",
              "    </tr>\n",
              "    <tr>\n",
              "      <th>297</th>\n",
              "      <td>299</td>\n",
              "      <td>43</td>\n",
              "      <td>0</td>\n",
              "      <td>4</td>\n",
              "      <td>132</td>\n",
              "      <td>341</td>\n",
              "      <td>1</td>\n",
              "      <td>2</td>\n",
              "      <td>136</td>\n",
              "      <td>1</td>\n",
              "      <td>3.0</td>\n",
              "      <td>2</td>\n",
              "      <td>0</td>\n",
              "      <td>reversible</td>\n",
              "      <td>1</td>\n",
              "    </tr>\n",
              "    <tr>\n",
              "      <th>298</th>\n",
              "      <td>300</td>\n",
              "      <td>65</td>\n",
              "      <td>1</td>\n",
              "      <td>4</td>\n",
              "      <td>135</td>\n",
              "      <td>254</td>\n",
              "      <td>0</td>\n",
              "      <td>2</td>\n",
              "      <td>127</td>\n",
              "      <td>0</td>\n",
              "      <td>2.8</td>\n",
              "      <td>2</td>\n",
              "      <td>1</td>\n",
              "      <td>reversible</td>\n",
              "      <td>1</td>\n",
              "    </tr>\n",
              "    <tr>\n",
              "      <th>299</th>\n",
              "      <td>301</td>\n",
              "      <td>48</td>\n",
              "      <td>1</td>\n",
              "      <td>4</td>\n",
              "      <td>130</td>\n",
              "      <td>256</td>\n",
              "      <td>1</td>\n",
              "      <td>2</td>\n",
              "      <td>150</td>\n",
              "      <td>1</td>\n",
              "      <td>0.0</td>\n",
              "      <td>1</td>\n",
              "      <td>2</td>\n",
              "      <td>reversible</td>\n",
              "      <td>1</td>\n",
              "    </tr>\n",
              "    <tr>\n",
              "      <th>300</th>\n",
              "      <td>302</td>\n",
              "      <td>63</td>\n",
              "      <td>0</td>\n",
              "      <td>4</td>\n",
              "      <td>150</td>\n",
              "      <td>407</td>\n",
              "      <td>0</td>\n",
              "      <td>2</td>\n",
              "      <td>154</td>\n",
              "      <td>0</td>\n",
              "      <td>4.0</td>\n",
              "      <td>2</td>\n",
              "      <td>3</td>\n",
              "      <td>reversible</td>\n",
              "      <td>1</td>\n",
              "    </tr>\n",
              "  </tbody>\n",
              "</table>\n",
              "<p>301 rows × 15 columns</p>\n",
              "</div>"
            ],
            "text/plain": [
              "     index  age  sex  cp  trestbps  ...  oldpeak  slope  ca        thal  target\n",
              "0        0   63    1   1       145  ...      2.3      3   0       fixed       0\n",
              "1        1   67    1   4       160  ...      1.5      2   3      normal       1\n",
              "2        2   67    1   4       120  ...      2.6      2   2  reversible       0\n",
              "3        3   37    1   3       130  ...      3.5      3   0      normal       0\n",
              "4        4   41    0   2       130  ...      1.4      1   0      normal       0\n",
              "..     ...  ...  ...  ..       ...  ...      ...    ...  ..         ...     ...\n",
              "296    298   52    1   1       118  ...      0.0      2   0       fixed       0\n",
              "297    299   43    0   4       132  ...      3.0      2   0  reversible       1\n",
              "298    300   65    1   4       135  ...      2.8      2   1  reversible       1\n",
              "299    301   48    1   4       130  ...      0.0      1   2  reversible       1\n",
              "300    302   63    0   4       150  ...      4.0      2   3  reversible       1\n",
              "\n",
              "[301 rows x 15 columns]"
            ]
          },
          "metadata": {
            "tags": []
          },
          "execution_count": 15
        }
      ]
    },
    {
      "cell_type": "code",
      "metadata": {
        "id": "Gze7Oe2c_Xp3",
        "colab": {
          "base_uri": "https://localhost:8080/",
          "height": 435
        },
        "outputId": "375d11a7-3ccc-4a2a-ab06-791451746550"
      },
      "source": [
        "heart_df = encoder.fit_transform(heart_df)\r\n",
        "heart_df"
      ],
      "execution_count": 16,
      "outputs": [
        {
          "output_type": "stream",
          "text": [
            "/usr/local/lib/python3.6/dist-packages/category_encoders/utils.py:21: FutureWarning: is_categorical is deprecated and will be removed in a future version.  Use is_categorical_dtype instead\n",
            "  elif pd.api.types.is_categorical(cols):\n"
          ],
          "name": "stderr"
        },
        {
          "output_type": "execute_result",
          "data": {
            "text/html": [
              "<div>\n",
              "<style scoped>\n",
              "    .dataframe tbody tr th:only-of-type {\n",
              "        vertical-align: middle;\n",
              "    }\n",
              "\n",
              "    .dataframe tbody tr th {\n",
              "        vertical-align: top;\n",
              "    }\n",
              "\n",
              "    .dataframe thead th {\n",
              "        text-align: right;\n",
              "    }\n",
              "</style>\n",
              "<table border=\"1\" class=\"dataframe\">\n",
              "  <thead>\n",
              "    <tr style=\"text-align: right;\">\n",
              "      <th></th>\n",
              "      <th>index</th>\n",
              "      <th>age</th>\n",
              "      <th>sex</th>\n",
              "      <th>cp</th>\n",
              "      <th>trestbps</th>\n",
              "      <th>chol</th>\n",
              "      <th>fbs</th>\n",
              "      <th>restecg</th>\n",
              "      <th>thalach</th>\n",
              "      <th>exang</th>\n",
              "      <th>oldpeak</th>\n",
              "      <th>slope</th>\n",
              "      <th>ca</th>\n",
              "      <th>thal</th>\n",
              "      <th>target</th>\n",
              "    </tr>\n",
              "  </thead>\n",
              "  <tbody>\n",
              "    <tr>\n",
              "      <th>0</th>\n",
              "      <td>0</td>\n",
              "      <td>63</td>\n",
              "      <td>1</td>\n",
              "      <td>1</td>\n",
              "      <td>145</td>\n",
              "      <td>233</td>\n",
              "      <td>1</td>\n",
              "      <td>2</td>\n",
              "      <td>150</td>\n",
              "      <td>0</td>\n",
              "      <td>2.3</td>\n",
              "      <td>3</td>\n",
              "      <td>0</td>\n",
              "      <td>2</td>\n",
              "      <td>0</td>\n",
              "    </tr>\n",
              "    <tr>\n",
              "      <th>1</th>\n",
              "      <td>1</td>\n",
              "      <td>67</td>\n",
              "      <td>1</td>\n",
              "      <td>4</td>\n",
              "      <td>160</td>\n",
              "      <td>286</td>\n",
              "      <td>0</td>\n",
              "      <td>2</td>\n",
              "      <td>108</td>\n",
              "      <td>1</td>\n",
              "      <td>1.5</td>\n",
              "      <td>2</td>\n",
              "      <td>3</td>\n",
              "      <td>0</td>\n",
              "      <td>1</td>\n",
              "    </tr>\n",
              "    <tr>\n",
              "      <th>2</th>\n",
              "      <td>2</td>\n",
              "      <td>67</td>\n",
              "      <td>1</td>\n",
              "      <td>4</td>\n",
              "      <td>120</td>\n",
              "      <td>229</td>\n",
              "      <td>0</td>\n",
              "      <td>2</td>\n",
              "      <td>129</td>\n",
              "      <td>1</td>\n",
              "      <td>2.6</td>\n",
              "      <td>2</td>\n",
              "      <td>2</td>\n",
              "      <td>1</td>\n",
              "      <td>0</td>\n",
              "    </tr>\n",
              "    <tr>\n",
              "      <th>3</th>\n",
              "      <td>3</td>\n",
              "      <td>37</td>\n",
              "      <td>1</td>\n",
              "      <td>3</td>\n",
              "      <td>130</td>\n",
              "      <td>250</td>\n",
              "      <td>0</td>\n",
              "      <td>0</td>\n",
              "      <td>187</td>\n",
              "      <td>0</td>\n",
              "      <td>3.5</td>\n",
              "      <td>3</td>\n",
              "      <td>0</td>\n",
              "      <td>0</td>\n",
              "      <td>0</td>\n",
              "    </tr>\n",
              "    <tr>\n",
              "      <th>4</th>\n",
              "      <td>4</td>\n",
              "      <td>41</td>\n",
              "      <td>0</td>\n",
              "      <td>2</td>\n",
              "      <td>130</td>\n",
              "      <td>204</td>\n",
              "      <td>0</td>\n",
              "      <td>2</td>\n",
              "      <td>172</td>\n",
              "      <td>0</td>\n",
              "      <td>1.4</td>\n",
              "      <td>1</td>\n",
              "      <td>0</td>\n",
              "      <td>0</td>\n",
              "      <td>0</td>\n",
              "    </tr>\n",
              "    <tr>\n",
              "      <th>...</th>\n",
              "      <td>...</td>\n",
              "      <td>...</td>\n",
              "      <td>...</td>\n",
              "      <td>...</td>\n",
              "      <td>...</td>\n",
              "      <td>...</td>\n",
              "      <td>...</td>\n",
              "      <td>...</td>\n",
              "      <td>...</td>\n",
              "      <td>...</td>\n",
              "      <td>...</td>\n",
              "      <td>...</td>\n",
              "      <td>...</td>\n",
              "      <td>...</td>\n",
              "      <td>...</td>\n",
              "    </tr>\n",
              "    <tr>\n",
              "      <th>296</th>\n",
              "      <td>298</td>\n",
              "      <td>52</td>\n",
              "      <td>1</td>\n",
              "      <td>1</td>\n",
              "      <td>118</td>\n",
              "      <td>186</td>\n",
              "      <td>0</td>\n",
              "      <td>2</td>\n",
              "      <td>190</td>\n",
              "      <td>0</td>\n",
              "      <td>0.0</td>\n",
              "      <td>2</td>\n",
              "      <td>0</td>\n",
              "      <td>2</td>\n",
              "      <td>0</td>\n",
              "    </tr>\n",
              "    <tr>\n",
              "      <th>297</th>\n",
              "      <td>299</td>\n",
              "      <td>43</td>\n",
              "      <td>0</td>\n",
              "      <td>4</td>\n",
              "      <td>132</td>\n",
              "      <td>341</td>\n",
              "      <td>1</td>\n",
              "      <td>2</td>\n",
              "      <td>136</td>\n",
              "      <td>1</td>\n",
              "      <td>3.0</td>\n",
              "      <td>2</td>\n",
              "      <td>0</td>\n",
              "      <td>1</td>\n",
              "      <td>1</td>\n",
              "    </tr>\n",
              "    <tr>\n",
              "      <th>298</th>\n",
              "      <td>300</td>\n",
              "      <td>65</td>\n",
              "      <td>1</td>\n",
              "      <td>4</td>\n",
              "      <td>135</td>\n",
              "      <td>254</td>\n",
              "      <td>0</td>\n",
              "      <td>2</td>\n",
              "      <td>127</td>\n",
              "      <td>0</td>\n",
              "      <td>2.8</td>\n",
              "      <td>2</td>\n",
              "      <td>1</td>\n",
              "      <td>1</td>\n",
              "      <td>1</td>\n",
              "    </tr>\n",
              "    <tr>\n",
              "      <th>299</th>\n",
              "      <td>301</td>\n",
              "      <td>48</td>\n",
              "      <td>1</td>\n",
              "      <td>4</td>\n",
              "      <td>130</td>\n",
              "      <td>256</td>\n",
              "      <td>1</td>\n",
              "      <td>2</td>\n",
              "      <td>150</td>\n",
              "      <td>1</td>\n",
              "      <td>0.0</td>\n",
              "      <td>1</td>\n",
              "      <td>2</td>\n",
              "      <td>1</td>\n",
              "      <td>1</td>\n",
              "    </tr>\n",
              "    <tr>\n",
              "      <th>300</th>\n",
              "      <td>302</td>\n",
              "      <td>63</td>\n",
              "      <td>0</td>\n",
              "      <td>4</td>\n",
              "      <td>150</td>\n",
              "      <td>407</td>\n",
              "      <td>0</td>\n",
              "      <td>2</td>\n",
              "      <td>154</td>\n",
              "      <td>0</td>\n",
              "      <td>4.0</td>\n",
              "      <td>2</td>\n",
              "      <td>3</td>\n",
              "      <td>1</td>\n",
              "      <td>1</td>\n",
              "    </tr>\n",
              "  </tbody>\n",
              "</table>\n",
              "<p>301 rows × 15 columns</p>\n",
              "</div>"
            ],
            "text/plain": [
              "     index  age  sex  cp  trestbps  ...  oldpeak  slope  ca  thal  target\n",
              "0        0   63    1   1       145  ...      2.3      3   0     2       0\n",
              "1        1   67    1   4       160  ...      1.5      2   3     0       1\n",
              "2        2   67    1   4       120  ...      2.6      2   2     1       0\n",
              "3        3   37    1   3       130  ...      3.5      3   0     0       0\n",
              "4        4   41    0   2       130  ...      1.4      1   0     0       0\n",
              "..     ...  ...  ...  ..       ...  ...      ...    ...  ..   ...     ...\n",
              "296    298   52    1   1       118  ...      0.0      2   0     2       0\n",
              "297    299   43    0   4       132  ...      3.0      2   0     1       1\n",
              "298    300   65    1   4       135  ...      2.8      2   1     1       1\n",
              "299    301   48    1   4       130  ...      0.0      1   2     1       1\n",
              "300    302   63    0   4       150  ...      4.0      2   3     1       1\n",
              "\n",
              "[301 rows x 15 columns]"
            ]
          },
          "metadata": {
            "tags": []
          },
          "execution_count": 16
        }
      ]
    },
    {
      "cell_type": "markdown",
      "metadata": {
        "id": "-EX-lRK0_Xp3"
      },
      "source": [
        "#### Train-test split"
      ]
    },
    {
      "cell_type": "code",
      "metadata": {
        "id": "LcP1WjczZUdo"
      },
      "source": [
        "y = heart_df['target']\r\n",
        "X= heart_df.drop(columns=['target'])\r\n",
        "assert len(X) == len(y)\r\n",
        "\r\n",
        "X_train, X_test, y_train, y_test = train_test_split(X, y, random_state=42, test_size=0.2, stratify = y )"
      ],
      "execution_count": 17,
      "outputs": []
    },
    {
      "cell_type": "code",
      "metadata": {
        "id": "ZBf_0Szlr5Ez"
      },
      "source": [
        "ss = StandardScaler()\r\n",
        "X_train = ss.fit_transform(X_train)\r\n",
        "X_test = ss.transform(X_test)\r\n"
      ],
      "execution_count": 18,
      "outputs": []
    },
    {
      "cell_type": "code",
      "metadata": {
        "id": "592cDw04r4ZT"
      },
      "source": [
        ""
      ],
      "execution_count": 18,
      "outputs": []
    },
    {
      "cell_type": "markdown",
      "metadata": {
        "id": "9CyGI5BA-faC"
      },
      "source": [
        "#### Set the TensorFlow random seed"
      ]
    },
    {
      "cell_type": "code",
      "metadata": {
        "id": "HEfRLI8j-ZQs"
      },
      "source": [
        "tf.random.set_seed(42)"
      ],
      "execution_count": 19,
      "outputs": []
    },
    {
      "cell_type": "markdown",
      "metadata": {
        "id": "bB9C0XJkyQEk"
      },
      "source": [
        "## Create and train a model\n",
        "\n",
        "#### Create model structure"
      ]
    },
    {
      "cell_type": "code",
      "metadata": {
        "id": "FQd9PcPRpkP4"
      },
      "source": [
        "model = Sequential()\r\n",
        "\r\n",
        "n_input = X_train.shape[1]\r\n",
        "\r\n",
        "model.add(Dense(n_input,\r\n",
        "                input_dim=n_input,\r\n",
        "                activation='relu'))\r\n",
        "\r\n",
        "model.add(Dense(1, activation='sigmoid'))"
      ],
      "execution_count": 20,
      "outputs": []
    },
    {
      "cell_type": "markdown",
      "metadata": {
        "id": "bzuQxoVM_Xp8"
      },
      "source": [
        "#### Visualize the structure"
      ]
    },
    {
      "cell_type": "code",
      "metadata": {
        "id": "xpIoUWSxgUBb",
        "colab": {
          "base_uri": "https://localhost:8080/"
        },
        "outputId": "0805169d-2533-4b03-c43b-4a0ec812dabe"
      },
      "source": [
        "model.summary()"
      ],
      "execution_count": 21,
      "outputs": [
        {
          "output_type": "stream",
          "text": [
            "Model: \"sequential\"\n",
            "_________________________________________________________________\n",
            "Layer (type)                 Output Shape              Param #   \n",
            "=================================================================\n",
            "dense (Dense)                (None, 14)                210       \n",
            "_________________________________________________________________\n",
            "dense_1 (Dense)              (None, 1)                 15        \n",
            "=================================================================\n",
            "Total params: 225\n",
            "Trainable params: 225\n",
            "Non-trainable params: 0\n",
            "_________________________________________________________________\n"
          ],
          "name": "stdout"
        }
      ]
    },
    {
      "cell_type": "code",
      "metadata": {
        "id": "sjHkd6kGy_oR"
      },
      "source": [
        ""
      ],
      "execution_count": null,
      "outputs": []
    },
    {
      "cell_type": "markdown",
      "metadata": {
        "id": "T12mvCrqpXOX"
      },
      "source": [
        "#### Compile"
      ]
    },
    {
      "cell_type": "code",
      "metadata": {
        "id": "fPzix0n5xPHc"
      },
      "source": [
        "model.compile(loss='categorical_crossentropy', optimizer='adam', metrics=['accuracy'])"
      ],
      "execution_count": 22,
      "outputs": []
    },
    {
      "cell_type": "markdown",
      "metadata": {
        "id": "nlV0i6J4o-Yg"
      },
      "source": [
        "#### Make an EarlyStopping callback"
      ]
    },
    {
      "cell_type": "code",
      "metadata": {
        "id": "ybDzNUheqxJw"
      },
      "source": [
        "\r\n",
        "early_stop = EarlyStopping(monitor='val_loss', min_delta=0, patience=5, verbose=1, mode='auto')"
      ],
      "execution_count": 23,
      "outputs": []
    },
    {
      "cell_type": "markdown",
      "metadata": {
        "id": "gaEz3a5BpLxr"
      },
      "source": [
        "#### Fit the model"
      ]
    },
    {
      "cell_type": "code",
      "metadata": {
        "id": "GTxY6vPrpJkl",
        "colab": {
          "base_uri": "https://localhost:8080/"
        },
        "outputId": "c030167b-8193-4bb2-94f9-0cd524b420cb"
      },
      "source": [
        "history = model.fit(X_train, y_train, validation_data=(X_test, y_test), epochs=25, batch_size=64, callbacks=[early_stop])"
      ],
      "execution_count": 24,
      "outputs": [
        {
          "output_type": "stream",
          "text": [
            "Epoch 1/25\n",
            "4/4 [==============================] - 1s 78ms/step - loss: 0.0000e+00 - accuracy: 0.3153 - val_loss: 0.0000e+00 - val_accuracy: 0.3607\n",
            "Epoch 2/25\n",
            "4/4 [==============================] - 0s 15ms/step - loss: 0.0000e+00 - accuracy: 0.2974 - val_loss: 0.0000e+00 - val_accuracy: 0.3607\n",
            "Epoch 3/25\n",
            "4/4 [==============================] - 0s 17ms/step - loss: 0.0000e+00 - accuracy: 0.3467 - val_loss: 0.0000e+00 - val_accuracy: 0.3770\n",
            "Epoch 4/25\n",
            "4/4 [==============================] - 0s 15ms/step - loss: 0.0000e+00 - accuracy: 0.3236 - val_loss: 0.0000e+00 - val_accuracy: 0.4262\n",
            "Epoch 5/25\n",
            "4/4 [==============================] - 0s 15ms/step - loss: 0.0000e+00 - accuracy: 0.3366 - val_loss: 0.0000e+00 - val_accuracy: 0.4426\n",
            "Epoch 6/25\n",
            "4/4 [==============================] - 0s 20ms/step - loss: 0.0000e+00 - accuracy: 0.3777 - val_loss: 0.0000e+00 - val_accuracy: 0.4590\n",
            "Epoch 00006: early stopping\n"
          ],
          "name": "stdout"
        }
      ]
    },
    {
      "cell_type": "markdown",
      "metadata": {
        "id": "8rOk1tBrkwOo"
      },
      "source": [
        "#### Plot model performance on the validation data (accuracy, recall, and precision)"
      ]
    },
    {
      "cell_type": "code",
      "metadata": {
        "id": "J0KM_xsoDW3P",
        "colab": {
          "base_uri": "https://localhost:8080/",
          "height": 483
        },
        "outputId": "ab0f52ad-b1cc-489f-e017-ecd3c84f5d57"
      },
      "source": [
        "# Visualize the loss\r\n",
        "train_loss = history.history['loss']\r\n",
        "test_loss = history.history['val_loss']\r\n",
        "\r\n",
        "plt.figure(figsize=(12, 8))\r\n",
        "plt.plot(train_loss, label='Training loss', color='navy')\r\n",
        "plt.plot(test_loss, label='Testing loss', color='skyblue')\r\n",
        "plt.legend();"
      ],
      "execution_count": 25,
      "outputs": [
        {
          "output_type": "display_data",
          "data": {
            "image/png": "[encoded data removed]",
            "text/plain": [
              "<Figure size 864x576 with 1 Axes>"
            ]
          },
          "metadata": {
            "tags": [],
            "needs_background": "light"
          }
        }
      ]
    },
    {
      "cell_type": "code",
      "metadata": {
        "colab": {
          "base_uri": "https://localhost:8080/",
          "height": 265
        },
        "id": "bGTlLGuX0u1p",
        "outputId": "1b286cdc-a471-4912-c2fc-a6c7ecfa25d4"
      },
      "source": [
        "# Visualize loss\r\n",
        "train_loss = history.history['loss']\r\n",
        "test_loss = history.history['val_loss']\r\n",
        "\r\n",
        "plt.plot(history.history['accuracy'], label='Train accuracy')\r\n",
        "plt.plot(history.history['val_accuracy'], label='Val accuracy')\r\n",
        "plt.legend();"
      ],
      "execution_count": 26,
      "outputs": [
        {
          "output_type": "display_data",
          "data": {
            "image/png": "[encoded data removed]",
            "text/plain": [
              "<Figure size 432x288 with 1 Axes>"
            ]
          },
          "metadata": {
            "tags": [],
            "needs_background": "light"
          }
        }
      ]
    },
    {
      "cell_type": "markdown",
      "metadata": {
        "id": "ltQkFibkzAMb"
      },
      "source": [
        "#### Save model"
      ]
    },
    {
      "cell_type": "code",
      "metadata": {
        "id": "b4477jxw71mZ",
        "colab": {
          "base_uri": "https://localhost:8080/"
        },
        "outputId": "04f63c6d-8d42-443e-b288-ea60a04b980d"
      },
      "source": [
        "model.save('./nn_model')"
      ],
      "execution_count": 27,
      "outputs": [
        {
          "output_type": "stream",
          "text": [
            "INFO:tensorflow:Assets written to: ./nn_model/assets\n"
          ],
          "name": "stdout"
        }
      ]
    },
    {
      "cell_type": "code",
      "metadata": {
        "id": "-EPOGHaHdsZm"
      },
      "source": [
        ""
      ],
      "execution_count": 27,
      "outputs": []
    },
    {
      "cell_type": "markdown",
      "metadata": {
        "id": "wgSH6wUwEDp2"
      },
      "source": [
        "#### Load model"
      ]
    },
    {
      "cell_type": "code",
      "metadata": {
        "id": "9DbjapJzd-ks"
      },
      "source": [
        "model=tf.keras.models.load_model('./nn_model')"
      ],
      "execution_count": 176,
      "outputs": []
    },
    {
      "cell_type": "code",
      "metadata": {
        "id": "nCUpyhGzeJWJ"
      },
      "source": [
        ""
      ],
      "execution_count": 176,
      "outputs": []
    },
    {
      "cell_type": "markdown",
      "metadata": {
        "id": "fs9fVkzQEGbN"
      },
      "source": [
        "#### Evaluate on test set "
      ]
    },
    {
      "cell_type": "code",
      "metadata": {
        "id": "aSaWeerYEDFX",
        "colab": {
          "base_uri": "https://localhost:8080/"
        },
        "outputId": "0e51f02c-f884-473e-b265-3c42fcab6030"
      },
      "source": [
        "history_test = model.fit(\r\n",
        "    X_test,\r\n",
        "    y_test,\r\n",
        "    validation_data =(X_train, y_train),\r\n",
        "    epochs=25,\r\n",
        "    batch_size=64,\r\n",
        "    callbacks=[early_stop]\r\n",
        "\r\n",
        ")"
      ],
      "execution_count": 177,
      "outputs": [
        {
          "output_type": "stream",
          "text": [
            "Epoch 1/25\n",
            "1/1 [==============================] - 1s 765ms/step - loss: 0.0000e+00 - accuracy: 0.4590 - val_loss: 0.0000e+00 - val_accuracy: 0.3833\n",
            "Epoch 2/25\n",
            "1/1 [==============================] - 0s 47ms/step - loss: 0.0000e+00 - accuracy: 0.4754 - val_loss: 0.0000e+00 - val_accuracy: 0.3917\n",
            "Epoch 3/25\n",
            "1/1 [==============================] - 0s 54ms/step - loss: 0.0000e+00 - accuracy: 0.4590 - val_loss: 0.0000e+00 - val_accuracy: 0.3958\n",
            "Epoch 4/25\n",
            "1/1 [==============================] - 0s 56ms/step - loss: 0.0000e+00 - accuracy: 0.4590 - val_loss: 0.0000e+00 - val_accuracy: 0.4000\n",
            "Epoch 5/25\n",
            "1/1 [==============================] - 0s 51ms/step - loss: 0.0000e+00 - accuracy: 0.4590 - val_loss: 0.0000e+00 - val_accuracy: 0.4167\n",
            "Epoch 6/25\n",
            "1/1 [==============================] - 0s 45ms/step - loss: 0.0000e+00 - accuracy: 0.4590 - val_loss: 0.0000e+00 - val_accuracy: 0.4208\n",
            "Epoch 00006: early stopping\n"
          ],
          "name": "stdout"
        }
      ]
    },
    {
      "cell_type": "code",
      "metadata": {
        "id": "cfU8XMPfECiL"
      },
      "source": [
        ""
      ],
      "execution_count": 177,
      "outputs": []
    },
    {
      "cell_type": "markdown",
      "metadata": {
        "id": "5olEwyc7D_ti"
      },
      "source": [
        "#### X_test predictions"
      ]
    },
    {
      "cell_type": "code",
      "metadata": {
        "id": "w5hEzXcbefof"
      },
      "source": [
        "y_preds = model.predict(X_test)"
      ],
      "execution_count": 178,
      "outputs": []
    },
    {
      "cell_type": "markdown",
      "metadata": {
        "id": "S4B1DOQOlIpD"
      },
      "source": [
        "#### What do those numbers look like? Let's get rid of that exponential notation and just round the predictions."
      ]
    },
    {
      "cell_type": "code",
      "metadata": {
        "id": "WxVEisOYw4Jr",
        "colab": {
          "base_uri": "https://localhost:8080/",
          "height": 399
        },
        "outputId": "7bf31305-5212-4fef-b682-c560c067f8d9"
      },
      "source": [
        "y_preds = np.round(y_preds, 0)\r\n",
        "y_preds_df = pd.DataFrame(y_preds) \r\n",
        "y_preds_df"
      ],
      "execution_count": 179,
      "outputs": [
        {
          "output_type": "execute_result",
          "data": {
            "text/html": [
              "<div>\n",
              "<style scoped>\n",
              "    .dataframe tbody tr th:only-of-type {\n",
              "        vertical-align: middle;\n",
              "    }\n",
              "\n",
              "    .dataframe tbody tr th {\n",
              "        vertical-align: top;\n",
              "    }\n",
              "\n",
              "    .dataframe thead th {\n",
              "        text-align: right;\n",
              "    }\n",
              "</style>\n",
              "<table border=\"1\" class=\"dataframe\">\n",
              "  <thead>\n",
              "    <tr style=\"text-align: right;\">\n",
              "      <th></th>\n",
              "      <th>0</th>\n",
              "    </tr>\n",
              "  </thead>\n",
              "  <tbody>\n",
              "    <tr>\n",
              "      <th>0</th>\n",
              "      <td>1.0</td>\n",
              "    </tr>\n",
              "    <tr>\n",
              "      <th>1</th>\n",
              "      <td>1.0</td>\n",
              "    </tr>\n",
              "    <tr>\n",
              "      <th>2</th>\n",
              "      <td>0.0</td>\n",
              "    </tr>\n",
              "    <tr>\n",
              "      <th>3</th>\n",
              "      <td>0.0</td>\n",
              "    </tr>\n",
              "    <tr>\n",
              "      <th>4</th>\n",
              "      <td>1.0</td>\n",
              "    </tr>\n",
              "    <tr>\n",
              "      <th>...</th>\n",
              "      <td>...</td>\n",
              "    </tr>\n",
              "    <tr>\n",
              "      <th>56</th>\n",
              "      <td>1.0</td>\n",
              "    </tr>\n",
              "    <tr>\n",
              "      <th>57</th>\n",
              "      <td>1.0</td>\n",
              "    </tr>\n",
              "    <tr>\n",
              "      <th>58</th>\n",
              "      <td>1.0</td>\n",
              "    </tr>\n",
              "    <tr>\n",
              "      <th>59</th>\n",
              "      <td>1.0</td>\n",
              "    </tr>\n",
              "    <tr>\n",
              "      <th>60</th>\n",
              "      <td>1.0</td>\n",
              "    </tr>\n",
              "  </tbody>\n",
              "</table>\n",
              "<p>61 rows × 1 columns</p>\n",
              "</div>"
            ],
            "text/plain": [
              "      0\n",
              "0   1.0\n",
              "1   1.0\n",
              "2   0.0\n",
              "3   0.0\n",
              "4   1.0\n",
              "..  ...\n",
              "56  1.0\n",
              "57  1.0\n",
              "58  1.0\n",
              "59  1.0\n",
              "60  1.0\n",
              "\n",
              "[61 rows x 1 columns]"
            ]
          },
          "metadata": {
            "tags": []
          },
          "execution_count": 179
        }
      ]
    },
    {
      "cell_type": "markdown",
      "metadata": {
        "id": "vzrZM0MTxDl9"
      },
      "source": [
        "#### How is the model performing? \n",
        "Let's look at the confusion matrix using TF."
      ]
    },
    {
      "cell_type": "code",
      "metadata": {
        "id": "i-KcKPNNDBdE"
      },
      "source": [
        "tn, fp, fn, tp = confusion_matrix(y_test, y_preds).ravel()"
      ],
      "execution_count": 180,
      "outputs": []
    },
    {
      "cell_type": "code",
      "metadata": {
        "colab": {
          "base_uri": "https://localhost:8080/",
          "height": 106
        },
        "id": "NZQRFtEB2Wgn",
        "outputId": "71f2ccaf-3f0f-42d9-8914-cd4fab4de4a9"
      },
      "source": [
        "#function to make a confusion matrix in a pandas dataframe\r\n",
        "\r\n",
        "def conmat(y_test, preds, classes):\r\n",
        "    conmat = confusion_matrix(y_test, preds)\r\n",
        "    return pd.DataFrame(conmat, columns=['Predicted ' +class_ for class_ in classes], \\\r\n",
        "                index=['Actual '+ class_ for class_ in classes])\r\n",
        "\r\n",
        "preds = y_preds\r\n",
        "\r\n",
        "conmat(y_test, preds, ['Yes', 'No'])"
      ],
      "execution_count": 181,
      "outputs": [
        {
          "output_type": "execute_result",
          "data": {
            "text/html": [
              "<div>\n",
              "<style scoped>\n",
              "    .dataframe tbody tr th:only-of-type {\n",
              "        vertical-align: middle;\n",
              "    }\n",
              "\n",
              "    .dataframe tbody tr th {\n",
              "        vertical-align: top;\n",
              "    }\n",
              "\n",
              "    .dataframe thead th {\n",
              "        text-align: right;\n",
              "    }\n",
              "</style>\n",
              "<table border=\"1\" class=\"dataframe\">\n",
              "  <thead>\n",
              "    <tr style=\"text-align: right;\">\n",
              "      <th></th>\n",
              "      <th>Predicted Yes</th>\n",
              "      <th>Predicted No</th>\n",
              "    </tr>\n",
              "  </thead>\n",
              "  <tbody>\n",
              "    <tr>\n",
              "      <th>Actual Yes</th>\n",
              "      <td>19</td>\n",
              "      <td>25</td>\n",
              "    </tr>\n",
              "    <tr>\n",
              "      <th>Actual No</th>\n",
              "      <td>8</td>\n",
              "      <td>9</td>\n",
              "    </tr>\n",
              "  </tbody>\n",
              "</table>\n",
              "</div>"
            ],
            "text/plain": [
              "            Predicted Yes  Predicted No\n",
              "Actual Yes             19            25\n",
              "Actual No               8             9"
            ]
          },
          "metadata": {
            "tags": []
          },
          "execution_count": 181
        }
      ]
    },
    {
      "cell_type": "markdown",
      "metadata": {
        "id": "_Yk_wAPHwSme"
      },
      "source": [
        "Or just use sklearn's confusion matrix. "
      ]
    },
    {
      "cell_type": "code",
      "metadata": {
        "id": "w6gZHqa3wQgS",
        "colab": {
          "base_uri": "https://localhost:8080/"
        },
        "outputId": "461b4b88-7667-4d77-ff4a-c961498ad16b"
      },
      "source": [
        "confusion_matrix(y_test, y_preds)"
      ],
      "execution_count": 182,
      "outputs": [
        {
          "output_type": "execute_result",
          "data": {
            "text/plain": [
              "array([[19, 25],\n",
              "       [ 8,  9]])"
            ]
          },
          "metadata": {
            "tags": []
          },
          "execution_count": 182
        }
      ]
    },
    {
      "cell_type": "markdown",
      "metadata": {
        "id": "i88nl2fLmmPo"
      },
      "source": [
        "#### Evaluate with other sklearn metrics"
      ]
    },
    {
      "cell_type": "code",
      "metadata": {
        "id": "3HS5qvVEp7Dt",
        "colab": {
          "base_uri": "https://localhost:8080/"
        },
        "outputId": "c63b7534-1ece-4df7-8d59-5fce0be65142"
      },
      "source": [
        "print(f\"Recall score: {np.round(recall_score(y_test, model.predict_classes(X_test), average = 'weighted'),2)}\")\r\n",
        "print(f\"Accuracy score: {np.round(accuracy_score(y_test, model.predict_classes(X_test),),2)}\")\r\n",
        "print(f\"F1-score score: {np.round(f1_score(y_test, model.predict_classes(X_test),),2)}\")\r\n",
        "print(f\"Precision score: {np.round(precision_score(y_test, model.predict_classes(X_test),),2)}\")"
      ],
      "execution_count": 183,
      "outputs": [
        {
          "output_type": "stream",
          "text": [
            "Recall score: 0.46\n",
            "Accuracy score: 0.46\n",
            "F1-score score: 0.35\n",
            "Precision score: 0.26\n"
          ],
          "name": "stdout"
        },
        {
          "output_type": "stream",
          "text": [
            "/usr/local/lib/python3.6/dist-packages/tensorflow/python/keras/engine/sequential.py:450: UserWarning: `model.predict_classes()` is deprecated and will be removed after 2021-01-01. Please use instead:* `np.argmax(model.predict(x), axis=-1)`,   if your model does multi-class classification   (e.g. if it uses a `softmax` last-layer activation).* `(model.predict(x) > 0.5).astype(\"int32\")`,   if your model does binary classification   (e.g. if it uses a `sigmoid` last-layer activation).\n",
            "  warnings.warn('`model.predict_classes()` is deprecated and '\n"
          ],
          "name": "stderr"
        }
      ]
    },
    {
      "cell_type": "code",
      "metadata": {
        "id": "tFNRQNR8z0qp"
      },
      "source": [
        ""
      ],
      "execution_count": 183,
      "outputs": []
    },
    {
      "cell_type": "code",
      "metadata": {
        "id": "F_BvhOiLqLd7"
      },
      "source": [
        ""
      ],
      "execution_count": 183,
      "outputs": []
    },
    {
      "cell_type": "code",
      "metadata": {
        "id": "4tzu786xqRkm"
      },
      "source": [
        ""
      ],
      "execution_count": 183,
      "outputs": []
    },
    {
      "cell_type": "markdown",
      "metadata": {
        "id": "WygQswjBwBb4"
      },
      "source": [
        "### Make a null model"
      ]
    },
    {
      "cell_type": "code",
      "metadata": {
        "id": "6-J5CSa-wAt-",
        "colab": {
          "base_uri": "https://localhost:8080/"
        },
        "outputId": "99b1c9e3-7c4b-4894-cccf-e856525327f2"
      },
      "source": [
        "heart_df['target'].value_counts(normalize=True)"
      ],
      "execution_count": 184,
      "outputs": [
        {
          "output_type": "execute_result",
          "data": {
            "text/plain": [
              "0    0.724252\n",
              "1    0.275748\n",
              "Name: target, dtype: float64"
            ]
          },
          "metadata": {
            "tags": []
          },
          "execution_count": 184
        }
      ]
    },
    {
      "cell_type": "markdown",
      "metadata": {
        "id": "aWNUxsZshX71"
      },
      "source": [
        "## Can you make a better model?\n",
        "\n",
        "Change the model architecture and see if you can make a better model. Add nodes, dense layers, and dropout layers."
      ]
    },
    {
      "cell_type": "code",
      "metadata": {
        "id": "-vuo0gPswEjU"
      },
      "source": [
        "#instantiate model\r\n",
        "model1 = Sequential()\r\n",
        "\r\n",
        "#input layer\r\n",
        "n_input = X_train.shape[1]\r\n",
        "\r\n",
        "#dense layers\r\n",
        "model1.add(Dense(n_input, \r\n",
        "                input_dim=n_input,\r\n",
        "                activation='relu'))\r\n",
        "model1.add(Dense(8, \r\n",
        "                activation='relu'))\r\n",
        "# model1.add(Dense(2, \r\n",
        "#                 input_dim=n_input,\r\n",
        "#                 activation='relu',\r\n",
        "#                 ))\r\n",
        "\r\n",
        "#output layer\r\n",
        "model1.add(Dense(1, activation='sigmoid'))"
      ],
      "execution_count": 299,
      "outputs": []
    },
    {
      "cell_type": "code",
      "metadata": {
        "id": "IV5yeb7r3_3v"
      },
      "source": [
        "model1.compile(loss='categorical_crossentropy', optimizer='adam', metrics=['accuracy'])"
      ],
      "execution_count": 300,
      "outputs": []
    },
    {
      "cell_type": "code",
      "metadata": {
        "colab": {
          "base_uri": "https://localhost:8080/"
        },
        "id": "D7Yb06Ga4Cyt",
        "outputId": "81a41fb7-59dd-4000-890c-fdee370f8746"
      },
      "source": [
        "history1 = model1.fit(X_train, y_train, validation_data=(X_train, y_train), epochs=15, batch_size=64, workers = -2)"
      ],
      "execution_count": 301,
      "outputs": [
        {
          "output_type": "stream",
          "text": [
            "Epoch 1/15\n",
            "4/4 [==============================] - 1s 75ms/step - loss: 0.0000e+00 - accuracy: 0.5997 - val_loss: 0.0000e+00 - val_accuracy: 0.6208\n",
            "Epoch 2/15\n",
            "4/4 [==============================] - 0s 17ms/step - loss: 0.0000e+00 - accuracy: 0.6240 - val_loss: 0.0000e+00 - val_accuracy: 0.6250\n",
            "Epoch 3/15\n",
            "4/4 [==============================] - 0s 17ms/step - loss: 0.0000e+00 - accuracy: 0.6532 - val_loss: 0.0000e+00 - val_accuracy: 0.6458\n",
            "Epoch 4/15\n",
            "4/4 [==============================] - 0s 17ms/step - loss: 0.0000e+00 - accuracy: 0.6376 - val_loss: 0.0000e+00 - val_accuracy: 0.6667\n",
            "Epoch 5/15\n",
            "4/4 [==============================] - 0s 17ms/step - loss: 0.0000e+00 - accuracy: 0.6633 - val_loss: 0.0000e+00 - val_accuracy: 0.7000\n",
            "Epoch 6/15\n",
            "4/4 [==============================] - 0s 15ms/step - loss: 0.0000e+00 - accuracy: 0.6827 - val_loss: 0.0000e+00 - val_accuracy: 0.7042\n",
            "Epoch 7/15\n",
            "4/4 [==============================] - 0s 19ms/step - loss: 0.0000e+00 - accuracy: 0.7242 - val_loss: 0.0000e+00 - val_accuracy: 0.7125\n",
            "Epoch 8/15\n",
            "4/4 [==============================] - 0s 18ms/step - loss: 0.0000e+00 - accuracy: 0.7118 - val_loss: 0.0000e+00 - val_accuracy: 0.7250\n",
            "Epoch 9/15\n",
            "4/4 [==============================] - 0s 16ms/step - loss: 0.0000e+00 - accuracy: 0.7030 - val_loss: 0.0000e+00 - val_accuracy: 0.7375\n",
            "Epoch 10/15\n",
            "4/4 [==============================] - 0s 20ms/step - loss: 0.0000e+00 - accuracy: 0.7391 - val_loss: 0.0000e+00 - val_accuracy: 0.7333\n",
            "Epoch 11/15\n",
            "4/4 [==============================] - 0s 16ms/step - loss: 0.0000e+00 - accuracy: 0.7371 - val_loss: 0.0000e+00 - val_accuracy: 0.7333\n",
            "Epoch 12/15\n",
            "4/4 [==============================] - 0s 16ms/step - loss: 0.0000e+00 - accuracy: 0.7454 - val_loss: 0.0000e+00 - val_accuracy: 0.7333\n",
            "Epoch 13/15\n",
            "4/4 [==============================] - 0s 16ms/step - loss: 0.0000e+00 - accuracy: 0.7324 - val_loss: 0.0000e+00 - val_accuracy: 0.7333\n",
            "Epoch 14/15\n",
            "4/4 [==============================] - 0s 18ms/step - loss: 0.0000e+00 - accuracy: 0.7707 - val_loss: 0.0000e+00 - val_accuracy: 0.7417\n",
            "Epoch 15/15\n",
            "4/4 [==============================] - 0s 84ms/step - loss: 0.0000e+00 - accuracy: 0.7269 - val_loss: 0.0000e+00 - val_accuracy: 0.7417\n"
          ],
          "name": "stdout"
        }
      ]
    },
    {
      "cell_type": "code",
      "metadata": {
        "colab": {
          "base_uri": "https://localhost:8080/",
          "height": 483
        },
        "id": "stHApb854LV6",
        "outputId": "900a0ca5-63b7-4af6-9839-4cd8fea5d89a"
      },
      "source": [
        "# Visualize the loss\r\n",
        "train_loss = history1.history['loss']\r\n",
        "test_loss = history1.history['val_loss']\r\n",
        "\r\n",
        "plt.figure(figsize=(12, 8))\r\n",
        "plt.plot(train_loss, label='Training loss', color='navy')\r\n",
        "plt.plot(test_loss, label='Testing loss', color='skyblue')\r\n",
        "plt.legend();"
      ],
      "execution_count": 302,
      "outputs": [
        {
          "output_type": "display_data",
          "data": {
            "image/png": "[encoded data removed]",
            "text/plain": [
              "<Figure size 864x576 with 1 Axes>"
            ]
          },
          "metadata": {
            "tags": [],
            "needs_background": "light"
          }
        }
      ]
    },
    {
      "cell_type": "code",
      "metadata": {
        "colab": {
          "base_uri": "https://localhost:8080/",
          "height": 265
        },
        "id": "VUhTN3JF4Srp",
        "outputId": "619c34b7-d8a2-450e-865e-156565c34203"
      },
      "source": [
        "# Visualize accuracy\r\n",
        "train_loss = history1.history['loss']\r\n",
        "test_loss = history1.history['val_loss']\r\n",
        "\r\n",
        "plt.plot(history1.history['accuracy'], label='Train accuracy')\r\n",
        "plt.plot(history1.history['val_accuracy'], label='Val accuracy')\r\n",
        "plt.legend();"
      ],
      "execution_count": 303,
      "outputs": [
        {
          "output_type": "display_data",
          "data": {
            "image/png": "[encoded data removed]",
            "text/plain": [
              "<Figure size 432x288 with 1 Axes>"
            ]
          },
          "metadata": {
            "tags": [],
            "needs_background": "light"
          }
        }
      ]
    },
    {
      "cell_type": "code",
      "metadata": {
        "colab": {
          "base_uri": "https://localhost:8080/"
        },
        "id": "X7lVO8r44bie",
        "outputId": "8a3fefa3-bb0d-4b8c-d6c6-2c1161d93258"
      },
      "source": [
        "print(f\"Recall score: {np.round(recall_score(y_test, model1.predict_classes(X_test), average = 'weighted'),2)}\")\r\n",
        "print(f\"Accuracy score: {np.round(accuracy_score(y_test, model1.predict_classes(X_test),),2)}\")\r\n",
        "print(f\"F1-score score: {np.round(f1_score(y_test, model1.predict_classes(X_test),),2)}\")\r\n",
        "print(f\"Precision score: {np.round(precision_score(y_test, model1.predict_classes(X_test),),2)}\")"
      ],
      "execution_count": 304,
      "outputs": [
        {
          "output_type": "stream",
          "text": [
            "/usr/local/lib/python3.6/dist-packages/tensorflow/python/keras/engine/sequential.py:450: UserWarning: `model.predict_classes()` is deprecated and will be removed after 2021-01-01. Please use instead:* `np.argmax(model.predict(x), axis=-1)`,   if your model does multi-class classification   (e.g. if it uses a `softmax` last-layer activation).* `(model.predict(x) > 0.5).astype(\"int32\")`,   if your model does binary classification   (e.g. if it uses a `sigmoid` last-layer activation).\n",
            "  warnings.warn('`model.predict_classes()` is deprecated and '\n"
          ],
          "name": "stderr"
        },
        {
          "output_type": "stream",
          "text": [
            "Recall score: 0.72\n",
            "Accuracy score: 0.72\n",
            "F1-score score: 0.11\n",
            "Precision score: 0.5\n"
          ],
          "name": "stdout"
        }
      ]
    },
    {
      "cell_type": "code",
      "metadata": {
        "colab": {
          "base_uri": "https://localhost:8080/"
        },
        "id": "aJcjcuWI8-uq",
        "outputId": "4ca0d73c-bd55-43a2-aaee-e7710b4eb122"
      },
      "source": [
        "y_preds_1 = model1.predict(X_test)\r\n",
        "y_preds_1 = np.round(y_preds_1, 0)\r\n",
        "y_preds_1_df = pd.DataFrame(y_preds_1) \r\n",
        "confusion_matrix(y_test, y_preds_1)"
      ],
      "execution_count": 305,
      "outputs": [
        {
          "output_type": "execute_result",
          "data": {
            "text/plain": [
              "array([[43,  1],\n",
              "       [16,  1]])"
            ]
          },
          "metadata": {
            "tags": []
          },
          "execution_count": 305
        }
      ]
    },
    {
      "cell_type": "markdown",
      "metadata": {
        "id": "P2g8fNYPhe5t"
      },
      "source": [
        "#### Save your best model. \n"
      ]
    },
    {
      "cell_type": "code",
      "metadata": {
        "id": "HEgyeU9u_XqJ",
        "colab": {
          "base_uri": "https://localhost:8080/"
        },
        "outputId": "1fcfbe5c-7fe2-4f8f-b850-68a50c69f201"
      },
      "source": [
        "model1.save('./best_nn_model') "
      ],
      "execution_count": 306,
      "outputs": [
        {
          "output_type": "stream",
          "text": [
            "INFO:tensorflow:Assets written to: ./best_nn_model/assets\n"
          ],
          "name": "stdout"
        }
      ]
    },
    {
      "cell_type": "markdown",
      "metadata": {
        "id": "8Y2AqHwEh4A_"
      },
      "source": [
        "#### Compare with other algorithms\n",
        "Compare your best neural net model to a scikit-learn LogisticRegression model. Also try a GradientBoostingClassifier."
      ]
    },
    {
      "cell_type": "markdown",
      "metadata": {
        "id": "HtoS8JaYyWOM"
      },
      "source": [
        "#### Scale/Standardize for Logistic Regression\n"
      ]
    },
    {
      "cell_type": "code",
      "metadata": {
        "id": "A5_RtKAkuN4l"
      },
      "source": [
        ""
      ],
      "execution_count": null,
      "outputs": []
    },
    {
      "cell_type": "markdown",
      "metadata": {
        "id": "sWIVhO5tyaEt"
      },
      "source": [
        "#### Logistic Regression"
      ]
    },
    {
      "cell_type": "code",
      "metadata": {
        "id": "jtSp1DXxusim"
      },
      "source": [
        "lr = LogisticRegression()"
      ],
      "execution_count": 307,
      "outputs": []
    },
    {
      "cell_type": "code",
      "metadata": {
        "id": "yj-0NL51xEU8",
        "colab": {
          "base_uri": "https://localhost:8080/"
        },
        "outputId": "b618d08d-d9f8-4f5a-8abc-4cdbf551e0cc"
      },
      "source": [
        "\r\n",
        "lr.fit(X_train, y_train)\r\n",
        "lr.score(X_train, y_train)"
      ],
      "execution_count": 308,
      "outputs": [
        {
          "output_type": "execute_result",
          "data": {
            "text/plain": [
              "0.8625"
            ]
          },
          "metadata": {
            "tags": []
          },
          "execution_count": 308
        }
      ]
    },
    {
      "cell_type": "code",
      "metadata": {
        "id": "jUz6DIErzVGU",
        "colab": {
          "base_uri": "https://localhost:8080/"
        },
        "outputId": "7c7ef3c8-0b1b-4640-82cc-ada1b0a7140e"
      },
      "source": [
        "lr.score(X_test, y_test)"
      ],
      "execution_count": 309,
      "outputs": [
        {
          "output_type": "execute_result",
          "data": {
            "text/plain": [
              "0.819672131147541"
            ]
          },
          "metadata": {
            "tags": []
          },
          "execution_count": 309
        }
      ]
    },
    {
      "cell_type": "markdown",
      "metadata": {
        "id": "gp1fbbJXzDCC"
      },
      "source": [
        "#### Evaluate performance on metrics other than accuracy"
      ]
    },
    {
      "cell_type": "code",
      "metadata": {
        "id": "De4E9nPhzDW0",
        "colab": {
          "base_uri": "https://localhost:8080/"
        },
        "outputId": "70d17c6f-91c7-4224-b486-cc60874e27c6"
      },
      "source": [
        "print(f\"Recall score: {np.round(recall_score(y_test, lr.predict(X_test), average = 'weighted'),2)}\")\r\n",
        "print(f\"Accuracy score: {np.round(accuracy_score(y_test, lr.predict(X_test),),2)}\")\r\n",
        "print(f\"F1-score score: {np.round(f1_score(y_test, lr.predict(X_test),),2)}\")\r\n",
        "print(f\"Precision score: {np.round(precision_score(y_test, lr.predict(X_test),),2)}\")"
      ],
      "execution_count": 310,
      "outputs": [
        {
          "output_type": "stream",
          "text": [
            "Recall score: 0.82\n",
            "Accuracy score: 0.82\n",
            "F1-score score: 0.59\n",
            "Precision score: 0.8\n"
          ],
          "name": "stdout"
        }
      ]
    },
    {
      "cell_type": "code",
      "metadata": {
        "id": "83EvEGrCzNPZ",
        "colab": {
          "base_uri": "https://localhost:8080/"
        },
        "outputId": "a8a7a018-e9c4-4e21-c651-f790c8b41ed4"
      },
      "source": [
        "confusion_matrix(y_test, lr.predict(X_test))"
      ],
      "execution_count": 311,
      "outputs": [
        {
          "output_type": "execute_result",
          "data": {
            "text/plain": [
              "array([[42,  2],\n",
              "       [ 9,  8]])"
            ]
          },
          "metadata": {
            "tags": []
          },
          "execution_count": 311
        }
      ]
    },
    {
      "cell_type": "code",
      "metadata": {
        "id": "dY3UfHTJ03vs"
      },
      "source": [
        ""
      ],
      "execution_count": null,
      "outputs": []
    },
    {
      "cell_type": "markdown",
      "metadata": {
        "id": "E04fXBHexQdX"
      },
      "source": [
        "### GradientBoosting"
      ]
    },
    {
      "cell_type": "code",
      "metadata": {
        "id": "gSZYH3XyuXRe"
      },
      "source": [
        "gbc = GradientBoostingClassifier()"
      ],
      "execution_count": 312,
      "outputs": []
    },
    {
      "cell_type": "code",
      "metadata": {
        "id": "fO5py5Xvyqon",
        "colab": {
          "base_uri": "https://localhost:8080/"
        },
        "outputId": "ec2867a1-6c8c-4cae-bf16-e7f7fdf3aae6"
      },
      "source": [
        "gbc.fit(X_train, y_train)\r\n",
        "gbc.score(X_train, y_train)"
      ],
      "execution_count": 313,
      "outputs": [
        {
          "output_type": "execute_result",
          "data": {
            "text/plain": [
              "1.0"
            ]
          },
          "metadata": {
            "tags": []
          },
          "execution_count": 313
        }
      ]
    },
    {
      "cell_type": "code",
      "metadata": {
        "id": "kHMYGfyDvMcM",
        "colab": {
          "base_uri": "https://localhost:8080/"
        },
        "outputId": "8027a637-3215-4524-b523-7f895b0c7a56"
      },
      "source": [
        "gbc.score(X_test, y_test)"
      ],
      "execution_count": 314,
      "outputs": [
        {
          "output_type": "execute_result",
          "data": {
            "text/plain": [
              "0.7868852459016393"
            ]
          },
          "metadata": {
            "tags": []
          },
          "execution_count": 314
        }
      ]
    },
    {
      "cell_type": "markdown",
      "metadata": {
        "id": "nojEwxvjy4f-"
      },
      "source": [
        "#### Evaluate performance on metrics other than accuracy"
      ]
    },
    {
      "cell_type": "code",
      "metadata": {
        "id": "Gl-9aQxZxiKg",
        "colab": {
          "base_uri": "https://localhost:8080/"
        },
        "outputId": "4575e075-2fe9-4288-c8d0-4a6a2d958ade"
      },
      "source": [
        "print(f\"Recall score: {np.round(recall_score(y_test, gbc.predict(X_test), average = 'weighted'),2)}\")\r\n",
        "print(f\"Accuracy score: {np.round(accuracy_score(y_test, gbc.predict(X_test),),2)}\")\r\n",
        "print(f\"F1-score score: {np.round(f1_score(y_test, gbc.predict(X_test),),2)}\")\r\n",
        "print(f\"Precision score: {np.round(precision_score(y_test, gbc.predict(X_test),),2)}\")"
      ],
      "execution_count": 315,
      "outputs": [
        {
          "output_type": "stream",
          "text": [
            "Recall score: 0.79\n",
            "Accuracy score: 0.79\n",
            "F1-score score: 0.52\n",
            "Precision score: 0.7\n"
          ],
          "name": "stdout"
        }
      ]
    },
    {
      "cell_type": "code",
      "metadata": {
        "id": "eRNkAj6jy2cY"
      },
      "source": [
        ""
      ],
      "execution_count": null,
      "outputs": []
    },
    {
      "cell_type": "code",
      "metadata": {
        "id": "gikwEMzMy7eD"
      },
      "source": [
        ""
      ],
      "execution_count": null,
      "outputs": []
    },
    {
      "cell_type": "code",
      "metadata": {
        "id": "BtXTZ9Zo0-xn"
      },
      "source": [
        ""
      ],
      "execution_count": null,
      "outputs": []
    },
    {
      "cell_type": "markdown",
      "metadata": {
        "id": "i1m6ZZ5UiKBX"
      },
      "source": [
        "#### Which evaluation metric(s) are best to use in this problem?"
      ]
    },
    {
      "cell_type": "markdown",
      "metadata": {
        "id": "xEBF6anpz9ta"
      },
      "source": [
        "recall or sensitifity is most important here because we want to catch all the people that have the heart problem. Hoever having a decent precision is also nice so we are not falsly predicting a lot of people have it that do not."
      ]
    },
    {
      "cell_type": "markdown",
      "metadata": {
        "id": "qx8eLEhC3fC9"
      },
      "source": [
        "#### Which model would you recommend for use? Why?"
      ]
    },
    {
      "cell_type": "markdown",
      "metadata": {
        "id": "DgDvq3lc3WCd"
      },
      "source": [
        "The Logistical regression was the easiest and most effective. A NN got close and perhaps with more fiddling with it , it could work better. However I ran quite a few models and many of them did a pretty poor job so I'd say those were hit or miss on this dataset. "
      ]
    },
    {
      "cell_type": "markdown",
      "metadata": {
        "id": "OB8r5k5j34l4"
      },
      "source": [
        "\n",
        "#### If you used Google Colab, download your notebook and put it in your Submissions repo. 🎉"
      ]
    }
  ]
}